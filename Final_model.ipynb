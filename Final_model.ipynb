{
 "cells": [
  {
   "cell_type": "markdown",
   "metadata": {},
   "source": [
    "# NCAA Bracket Challenge 2024"
   ]
  },
  {
   "cell_type": "markdown",
   "metadata": {},
   "source": [
    "## Team Starford"
   ]
  },
  {
   "cell_type": "markdown",
   "metadata": {},
   "source": [
    "Install required libraries"
   ]
  },
  {
   "cell_type": "code",
   "execution_count": 1,
   "metadata": {},
   "outputs": [],
   "source": [
    "#pip install -r requirements.txt"
   ]
  },
  {
   "cell_type": "markdown",
   "metadata": {},
   "source": [
    "## Import libraries"
   ]
  },
  {
   "cell_type": "code",
   "execution_count": 2,
   "metadata": {},
   "outputs": [],
   "source": [
    "import random\n",
    "import pandas as pd\n",
    "import numpy as np\n",
    "\n",
    "import tensorflow as tf\n",
    "from tensorflow.keras.models import Model\n",
    "from tensorflow.keras.optimizers import Adam\n",
    "from tensorflow.keras.layers import Input, Embedding, Flatten, Dense, Concatenate,  Dropout, BatchNormalization, LeakyReLU\n",
    "from tensorflow.keras.losses import MeanSquaredError, MeanAbsoluteError\n",
    "from tensorflow.keras.models import load_model\n",
    "from tensorflow.keras.callbacks import ReduceLROnPlateau, EarlyStopping\n",
    "from tensorflow.keras.regularizers import l2\n",
    "\n",
    "from sklearn.model_selection import train_test_split\n",
    "from sklearn.preprocessing import LabelEncoder\n"
   ]
  },
  {
   "cell_type": "markdown",
   "metadata": {},
   "source": [
    "Set seeds"
   ]
  },
  {
   "cell_type": "code",
   "execution_count": 3,
   "metadata": {},
   "outputs": [],
   "source": [
    "seed = 21\n",
    "random.seed(seed)\n",
    "np.random.seed(seed)\n",
    "tf.random.set_seed(seed)\n",
    "tf.experimental.numpy.random.seed(seed)"
   ]
  },
  {
   "cell_type": "markdown",
   "metadata": {},
   "source": [
    "## Load data"
   ]
  },
  {
   "cell_type": "code",
   "execution_count": 4,
   "metadata": {},
   "outputs": [],
   "source": [
    "teamname_df = pd.read_csv('data/MTeams.csv')\n",
    "teamseeds_df = pd.read_csv('data/MNCAATourneySeeds.csv')\n",
    "gameresults_df = pd.read_csv('data/MRegularSeasonCompactResults.csv')\n",
    "teamseeds_2024_df = pd.read_csv('data/2024_BracketSeeds.csv')\n",
    "teams_2024_df = pd.read_csv('data/Teams_2024.csv')"
   ]
  },
  {
   "cell_type": "markdown",
   "metadata": {},
   "source": [
    "## Data Preprocessing"
   ]
  },
  {
   "cell_type": "markdown",
   "metadata": {},
   "source": [
    "Label Encoding"
   ]
  },
  {
   "cell_type": "code",
   "execution_count": 5,
   "metadata": {},
   "outputs": [],
   "source": [
    "def label_encoding(df):\n",
    "    \"\"\"\n",
    "    parameters:\n",
    "    df: dataframe to be encoded\n",
    "\n",
    "    returns:\n",
    "    labels: encoded dataframe\n",
    "    num: number of unique characters in the dataframe\n",
    "\n",
    "    \"\"\"\n",
    "    label_encoder = LabelEncoder()\n",
    "    unique_chars = list(set(df.tolist()))\n",
    "    num =len(unique_chars)\n",
    "    labels = label_encoder.fit(unique_chars)\n",
    "    return labels, num"
   ]
  },
  {
   "cell_type": "code",
   "execution_count": 6,
   "metadata": {},
   "outputs": [],
   "source": [
    "team_encode, num_teams = label_encoding(teamname_df['TeamID'])\n",
    "teamname_df['TeamID_encoded'] = team_encode.transform(teamname_df['TeamID'])"
   ]
  },
  {
   "cell_type": "code",
   "execution_count": 7,
   "metadata": {},
   "outputs": [
    {
     "data": {
      "text/html": [
       "<div>\n",
       "<style scoped>\n",
       "    .dataframe tbody tr th:only-of-type {\n",
       "        vertical-align: middle;\n",
       "    }\n",
       "\n",
       "    .dataframe tbody tr th {\n",
       "        vertical-align: top;\n",
       "    }\n",
       "\n",
       "    .dataframe thead th {\n",
       "        text-align: right;\n",
       "    }\n",
       "</style>\n",
       "<table border=\"1\" class=\"dataframe\">\n",
       "  <thead>\n",
       "    <tr style=\"text-align: right;\">\n",
       "      <th></th>\n",
       "      <th>TeamID</th>\n",
       "      <th>TeamName</th>\n",
       "      <th>FirstD1Season</th>\n",
       "      <th>LastD1Season</th>\n",
       "      <th>TeamID_encoded</th>\n",
       "    </tr>\n",
       "  </thead>\n",
       "  <tbody>\n",
       "    <tr>\n",
       "      <th>0</th>\n",
       "      <td>1101</td>\n",
       "      <td>Abilene Chr</td>\n",
       "      <td>2014</td>\n",
       "      <td>2023</td>\n",
       "      <td>0</td>\n",
       "    </tr>\n",
       "    <tr>\n",
       "      <th>1</th>\n",
       "      <td>1102</td>\n",
       "      <td>Air Force</td>\n",
       "      <td>1985</td>\n",
       "      <td>2023</td>\n",
       "      <td>1</td>\n",
       "    </tr>\n",
       "    <tr>\n",
       "      <th>2</th>\n",
       "      <td>1103</td>\n",
       "      <td>Akron</td>\n",
       "      <td>1985</td>\n",
       "      <td>2023</td>\n",
       "      <td>2</td>\n",
       "    </tr>\n",
       "    <tr>\n",
       "      <th>3</th>\n",
       "      <td>1104</td>\n",
       "      <td>Alabama</td>\n",
       "      <td>1985</td>\n",
       "      <td>2023</td>\n",
       "      <td>3</td>\n",
       "    </tr>\n",
       "    <tr>\n",
       "      <th>4</th>\n",
       "      <td>1105</td>\n",
       "      <td>Alabama A&amp;M</td>\n",
       "      <td>2000</td>\n",
       "      <td>2023</td>\n",
       "      <td>4</td>\n",
       "    </tr>\n",
       "  </tbody>\n",
       "</table>\n",
       "</div>"
      ],
      "text/plain": [
       "   TeamID     TeamName  FirstD1Season  LastD1Season  TeamID_encoded\n",
       "0    1101  Abilene Chr           2014          2023               0\n",
       "1    1102    Air Force           1985          2023               1\n",
       "2    1103        Akron           1985          2023               2\n",
       "3    1104      Alabama           1985          2023               3\n",
       "4    1105  Alabama A&M           2000          2023               4"
      ]
     },
     "execution_count": 7,
     "metadata": {},
     "output_type": "execute_result"
    }
   ],
   "source": [
    "teamname_df.head()"
   ]
  },
  {
   "cell_type": "code",
   "execution_count": 8,
   "metadata": {},
   "outputs": [
    {
     "data": {
      "text/html": [
       "<div>\n",
       "<style scoped>\n",
       "    .dataframe tbody tr th:only-of-type {\n",
       "        vertical-align: middle;\n",
       "    }\n",
       "\n",
       "    .dataframe tbody tr th {\n",
       "        vertical-align: top;\n",
       "    }\n",
       "\n",
       "    .dataframe thead th {\n",
       "        text-align: right;\n",
       "    }\n",
       "</style>\n",
       "<table border=\"1\" class=\"dataframe\">\n",
       "  <thead>\n",
       "    <tr style=\"text-align: right;\">\n",
       "      <th></th>\n",
       "      <th>TeamName</th>\n",
       "      <th>TeamID</th>\n",
       "      <th>TeamID_encoded</th>\n",
       "    </tr>\n",
       "  </thead>\n",
       "  <tbody>\n",
       "    <tr>\n",
       "      <th>0</th>\n",
       "      <td>Akron</td>\n",
       "      <td>1103</td>\n",
       "      <td>2</td>\n",
       "    </tr>\n",
       "    <tr>\n",
       "      <th>1</th>\n",
       "      <td>Alabama</td>\n",
       "      <td>1104</td>\n",
       "      <td>3</td>\n",
       "    </tr>\n",
       "    <tr>\n",
       "      <th>2</th>\n",
       "      <td>Arizona</td>\n",
       "      <td>1112</td>\n",
       "      <td>11</td>\n",
       "    </tr>\n",
       "    <tr>\n",
       "      <th>3</th>\n",
       "      <td>Auburn</td>\n",
       "      <td>1120</td>\n",
       "      <td>19</td>\n",
       "    </tr>\n",
       "    <tr>\n",
       "      <th>4</th>\n",
       "      <td>Baylor</td>\n",
       "      <td>1124</td>\n",
       "      <td>23</td>\n",
       "    </tr>\n",
       "  </tbody>\n",
       "</table>\n",
       "</div>"
      ],
      "text/plain": [
       "  TeamName  TeamID  TeamID_encoded\n",
       "0    Akron    1103               2\n",
       "1  Alabama    1104               3\n",
       "2  Arizona    1112              11\n",
       "3   Auburn    1120              19\n",
       "4   Baylor    1124              23"
      ]
     },
     "execution_count": 8,
     "metadata": {},
     "output_type": "execute_result"
    }
   ],
   "source": [
    "teams_2024_df['TeamID_encoded']= team_encode.transform(teams_2024_df['TeamID'])\n",
    "teams_2024_df.head()"
   ]
  },
  {
   "cell_type": "markdown",
   "metadata": {},
   "source": [
    "Get game results of previous season matches to train the model"
   ]
  },
  {
   "cell_type": "code",
   "execution_count": 9,
   "metadata": {},
   "outputs": [],
   "source": [
    "gameresults_df['WTeamID_encoded'] = team_encode.transform(gameresults_df['WTeamID'])\n",
    "gameresults_df['LTeamID_encoded'] = team_encode.transform(gameresults_df['LTeamID'])"
   ]
  },
  {
   "cell_type": "code",
   "execution_count": 10,
   "metadata": {},
   "outputs": [
    {
     "data": {
      "text/html": [
       "<div>\n",
       "<style scoped>\n",
       "    .dataframe tbody tr th:only-of-type {\n",
       "        vertical-align: middle;\n",
       "    }\n",
       "\n",
       "    .dataframe tbody tr th {\n",
       "        vertical-align: top;\n",
       "    }\n",
       "\n",
       "    .dataframe thead th {\n",
       "        text-align: right;\n",
       "    }\n",
       "</style>\n",
       "<table border=\"1\" class=\"dataframe\">\n",
       "  <thead>\n",
       "    <tr style=\"text-align: right;\">\n",
       "      <th></th>\n",
       "      <th>Season</th>\n",
       "      <th>DayNum</th>\n",
       "      <th>WTeamID</th>\n",
       "      <th>WScore</th>\n",
       "      <th>LTeamID</th>\n",
       "      <th>LScore</th>\n",
       "      <th>WLoc</th>\n",
       "      <th>NumOT</th>\n",
       "      <th>WTeamID_encoded</th>\n",
       "      <th>LTeamID_encoded</th>\n",
       "    </tr>\n",
       "  </thead>\n",
       "  <tbody>\n",
       "    <tr>\n",
       "      <th>0</th>\n",
       "      <td>1985</td>\n",
       "      <td>20</td>\n",
       "      <td>1228</td>\n",
       "      <td>81</td>\n",
       "      <td>1328</td>\n",
       "      <td>64</td>\n",
       "      <td>N</td>\n",
       "      <td>0</td>\n",
       "      <td>127</td>\n",
       "      <td>227</td>\n",
       "    </tr>\n",
       "    <tr>\n",
       "      <th>1</th>\n",
       "      <td>1985</td>\n",
       "      <td>25</td>\n",
       "      <td>1106</td>\n",
       "      <td>77</td>\n",
       "      <td>1354</td>\n",
       "      <td>70</td>\n",
       "      <td>H</td>\n",
       "      <td>0</td>\n",
       "      <td>5</td>\n",
       "      <td>253</td>\n",
       "    </tr>\n",
       "    <tr>\n",
       "      <th>2</th>\n",
       "      <td>1985</td>\n",
       "      <td>25</td>\n",
       "      <td>1112</td>\n",
       "      <td>63</td>\n",
       "      <td>1223</td>\n",
       "      <td>56</td>\n",
       "      <td>H</td>\n",
       "      <td>0</td>\n",
       "      <td>11</td>\n",
       "      <td>122</td>\n",
       "    </tr>\n",
       "    <tr>\n",
       "      <th>3</th>\n",
       "      <td>1985</td>\n",
       "      <td>25</td>\n",
       "      <td>1165</td>\n",
       "      <td>70</td>\n",
       "      <td>1432</td>\n",
       "      <td>54</td>\n",
       "      <td>H</td>\n",
       "      <td>0</td>\n",
       "      <td>64</td>\n",
       "      <td>331</td>\n",
       "    </tr>\n",
       "    <tr>\n",
       "      <th>4</th>\n",
       "      <td>1985</td>\n",
       "      <td>25</td>\n",
       "      <td>1192</td>\n",
       "      <td>86</td>\n",
       "      <td>1447</td>\n",
       "      <td>74</td>\n",
       "      <td>H</td>\n",
       "      <td>0</td>\n",
       "      <td>91</td>\n",
       "      <td>346</td>\n",
       "    </tr>\n",
       "  </tbody>\n",
       "</table>\n",
       "</div>"
      ],
      "text/plain": [
       "   Season  DayNum  WTeamID  WScore  LTeamID  LScore WLoc  NumOT  \\\n",
       "0    1985      20     1228      81     1328      64    N      0   \n",
       "1    1985      25     1106      77     1354      70    H      0   \n",
       "2    1985      25     1112      63     1223      56    H      0   \n",
       "3    1985      25     1165      70     1432      54    H      0   \n",
       "4    1985      25     1192      86     1447      74    H      0   \n",
       "\n",
       "   WTeamID_encoded  LTeamID_encoded  \n",
       "0              127              227  \n",
       "1                5              253  \n",
       "2               11              122  \n",
       "3               64              331  \n",
       "4               91              346  "
      ]
     },
     "execution_count": 10,
     "metadata": {},
     "output_type": "execute_result"
    }
   ],
   "source": [
    "gameresults_df.head()"
   ]
  },
  {
   "cell_type": "code",
   "execution_count": 11,
   "metadata": {},
   "outputs": [
    {
     "data": {
      "text/plain": [
       "(181682, 10)"
      ]
     },
     "execution_count": 11,
     "metadata": {},
     "output_type": "execute_result"
    }
   ],
   "source": [
    "gameresults_df.shape"
   ]
  },
  {
   "cell_type": "markdown",
   "metadata": {},
   "source": [
    "Train the model using game results until 2023 and predict for 2024"
   ]
  },
  {
   "cell_type": "markdown",
   "metadata": {},
   "source": [
    "Get match history from 1985 to 2023 of the teams playing in 2024"
   ]
  },
  {
   "cell_type": "code",
   "execution_count": 12,
   "metadata": {},
   "outputs": [
    {
     "data": {
      "text/html": [
       "<div>\n",
       "<style scoped>\n",
       "    .dataframe tbody tr th:only-of-type {\n",
       "        vertical-align: middle;\n",
       "    }\n",
       "\n",
       "    .dataframe tbody tr th {\n",
       "        vertical-align: top;\n",
       "    }\n",
       "\n",
       "    .dataframe thead th {\n",
       "        text-align: right;\n",
       "    }\n",
       "</style>\n",
       "<table border=\"1\" class=\"dataframe\">\n",
       "  <thead>\n",
       "    <tr style=\"text-align: right;\">\n",
       "      <th></th>\n",
       "      <th>Season</th>\n",
       "      <th>DayNum</th>\n",
       "      <th>WTeamID</th>\n",
       "      <th>WScore</th>\n",
       "      <th>LTeamID</th>\n",
       "      <th>LScore</th>\n",
       "      <th>WLoc</th>\n",
       "      <th>NumOT</th>\n",
       "      <th>WTeamID_encoded</th>\n",
       "      <th>LTeamID_encoded</th>\n",
       "    </tr>\n",
       "  </thead>\n",
       "  <tbody>\n",
       "    <tr>\n",
       "      <th>0</th>\n",
       "      <td>1985</td>\n",
       "      <td>20</td>\n",
       "      <td>1228</td>\n",
       "      <td>81</td>\n",
       "      <td>1328</td>\n",
       "      <td>64</td>\n",
       "      <td>N</td>\n",
       "      <td>0</td>\n",
       "      <td>127</td>\n",
       "      <td>227</td>\n",
       "    </tr>\n",
       "    <tr>\n",
       "      <th>1</th>\n",
       "      <td>1985</td>\n",
       "      <td>25</td>\n",
       "      <td>1112</td>\n",
       "      <td>63</td>\n",
       "      <td>1223</td>\n",
       "      <td>56</td>\n",
       "      <td>H</td>\n",
       "      <td>0</td>\n",
       "      <td>11</td>\n",
       "      <td>122</td>\n",
       "    </tr>\n",
       "    <tr>\n",
       "      <th>2</th>\n",
       "      <td>1985</td>\n",
       "      <td>25</td>\n",
       "      <td>1228</td>\n",
       "      <td>64</td>\n",
       "      <td>1226</td>\n",
       "      <td>44</td>\n",
       "      <td>N</td>\n",
       "      <td>0</td>\n",
       "      <td>127</td>\n",
       "      <td>125</td>\n",
       "    </tr>\n",
       "    <tr>\n",
       "      <th>3</th>\n",
       "      <td>1985</td>\n",
       "      <td>25</td>\n",
       "      <td>1242</td>\n",
       "      <td>58</td>\n",
       "      <td>1268</td>\n",
       "      <td>56</td>\n",
       "      <td>N</td>\n",
       "      <td>0</td>\n",
       "      <td>141</td>\n",
       "      <td>167</td>\n",
       "    </tr>\n",
       "    <tr>\n",
       "      <th>4</th>\n",
       "      <td>1985</td>\n",
       "      <td>25</td>\n",
       "      <td>1305</td>\n",
       "      <td>97</td>\n",
       "      <td>1424</td>\n",
       "      <td>89</td>\n",
       "      <td>H</td>\n",
       "      <td>0</td>\n",
       "      <td>204</td>\n",
       "      <td>323</td>\n",
       "    </tr>\n",
       "  </tbody>\n",
       "</table>\n",
       "</div>"
      ],
      "text/plain": [
       "   Season  DayNum  WTeamID  WScore  LTeamID  LScore WLoc  NumOT  \\\n",
       "0    1985      20     1228      81     1328      64    N      0   \n",
       "1    1985      25     1112      63     1223      56    H      0   \n",
       "2    1985      25     1228      64     1226      44    N      0   \n",
       "3    1985      25     1242      58     1268      56    N      0   \n",
       "4    1985      25     1305      97     1424      89    H      0   \n",
       "\n",
       "   WTeamID_encoded  LTeamID_encoded  \n",
       "0              127              227  \n",
       "1               11              122  \n",
       "2              127              125  \n",
       "3              141              167  \n",
       "4              204              323  "
      ]
     },
     "execution_count": 12,
     "metadata": {},
     "output_type": "execute_result"
    }
   ],
   "source": [
    "result_history_df_w = gameresults_df.merge(teams_2024_df[['TeamID_encoded']], left_on='WTeamID_encoded', right_on='TeamID_encoded', how='inner').drop(columns=['TeamID_encoded'])\n",
    "\n",
    "# Merge for 'LTeamID_encoded'\n",
    "result_history_df_l = gameresults_df.merge(teams_2024_df[['TeamID_encoded']], left_on='LTeamID_encoded', right_on='TeamID_encoded', how='inner').drop(columns=['TeamID_encoded'])\n",
    "\n",
    "# Concatenate the two merged dataframes\n",
    "result_history_df = pd.concat([result_history_df_w, result_history_df_l])\n",
    "\n",
    "result_history_df.head()"
   ]
  },
  {
   "cell_type": "code",
   "execution_count": 13,
   "metadata": {},
   "outputs": [
    {
     "data": {
      "text/plain": [
       "(75108, 10)"
      ]
     },
     "execution_count": 13,
     "metadata": {},
     "output_type": "execute_result"
    }
   ],
   "source": [
    "result_history_df.shape"
   ]
  },
  {
   "cell_type": "code",
   "execution_count": 14,
   "metadata": {},
   "outputs": [],
   "source": [
    "def data_filter(row):\n",
    "\n",
    "    \"\"\"\n",
    "    parameters:\n",
    "    row: row of dataframe\n",
    "\n",
    "    returns:\n",
    "    new_row: new dataframe with filtered data\n",
    "    \"\"\"\n",
    "    if np.random.uniform() < 0.5:\n",
    "        new_row = {\n",
    "            'team_a': row['WTeamID'],\n",
    "            'team_a_encoded': row['WTeamID_encoded'],\n",
    "            'team_a_score': row['WScore'],\n",
    "            'team_b': row['LTeamID'],\n",
    "            'team_b_encoded': row['LTeamID_encoded'],\n",
    "            'team_b_score': row['LScore']\n",
    "\n",
    "        }\n",
    "    else:\n",
    "        new_row = {\n",
    "            'team_b': row['WTeamID'],\n",
    "            'team_b_encoded': row['WTeamID_encoded'],\n",
    "            'team_b_score': row['WScore'],\n",
    "            'team_a': row['LTeamID'],\n",
    "            'team_a_encoded': row['LTeamID_encoded'],\n",
    "            'team_a_score': row['LScore']\n",
    "\n",
    "        }\n",
    "    return new_row"
   ]
  },
  {
   "cell_type": "code",
   "execution_count": 15,
   "metadata": {},
   "outputs": [
    {
     "data": {
      "text/html": [
       "<div>\n",
       "<style scoped>\n",
       "    .dataframe tbody tr th:only-of-type {\n",
       "        vertical-align: middle;\n",
       "    }\n",
       "\n",
       "    .dataframe tbody tr th {\n",
       "        vertical-align: top;\n",
       "    }\n",
       "\n",
       "    .dataframe thead th {\n",
       "        text-align: right;\n",
       "    }\n",
       "</style>\n",
       "<table border=\"1\" class=\"dataframe\">\n",
       "  <thead>\n",
       "    <tr style=\"text-align: right;\">\n",
       "      <th></th>\n",
       "      <th>team_a</th>\n",
       "      <th>team_a_encoded</th>\n",
       "      <th>team_a_score</th>\n",
       "      <th>team_b</th>\n",
       "      <th>team_b_encoded</th>\n",
       "      <th>team_b_score</th>\n",
       "    </tr>\n",
       "  </thead>\n",
       "  <tbody>\n",
       "    <tr>\n",
       "      <th>0</th>\n",
       "      <td>1228</td>\n",
       "      <td>127</td>\n",
       "      <td>81</td>\n",
       "      <td>1328</td>\n",
       "      <td>227</td>\n",
       "      <td>64</td>\n",
       "    </tr>\n",
       "    <tr>\n",
       "      <th>1</th>\n",
       "      <td>1112</td>\n",
       "      <td>11</td>\n",
       "      <td>63</td>\n",
       "      <td>1223</td>\n",
       "      <td>122</td>\n",
       "      <td>56</td>\n",
       "    </tr>\n",
       "    <tr>\n",
       "      <th>2</th>\n",
       "      <td>1226</td>\n",
       "      <td>125</td>\n",
       "      <td>44</td>\n",
       "      <td>1228</td>\n",
       "      <td>127</td>\n",
       "      <td>64</td>\n",
       "    </tr>\n",
       "    <tr>\n",
       "      <th>3</th>\n",
       "      <td>1242</td>\n",
       "      <td>141</td>\n",
       "      <td>58</td>\n",
       "      <td>1268</td>\n",
       "      <td>167</td>\n",
       "      <td>56</td>\n",
       "    </tr>\n",
       "    <tr>\n",
       "      <th>4</th>\n",
       "      <td>1305</td>\n",
       "      <td>204</td>\n",
       "      <td>97</td>\n",
       "      <td>1424</td>\n",
       "      <td>323</td>\n",
       "      <td>89</td>\n",
       "    </tr>\n",
       "  </tbody>\n",
       "</table>\n",
       "</div>"
      ],
      "text/plain": [
       "   team_a  team_a_encoded  team_a_score  team_b  team_b_encoded  team_b_score\n",
       "0    1228             127            81    1328             227            64\n",
       "1    1112              11            63    1223             122            56\n",
       "2    1226             125            44    1228             127            64\n",
       "3    1242             141            58    1268             167            56\n",
       "4    1305             204            97    1424             323            89"
      ]
     },
     "execution_count": 15,
     "metadata": {},
     "output_type": "execute_result"
    }
   ],
   "source": [
    "result_history_df = result_history_df.apply(data_filter, axis=1).tolist()\n",
    "result_history_df = pd.DataFrame(result_history_df)\n",
    "result_history_df.head()"
   ]
  },
  {
   "cell_type": "code",
   "execution_count": 16,
   "metadata": {},
   "outputs": [],
   "source": [
    "def calculate_score_diff(row):\n",
    "    \"\"\"\n",
    "    parameters:\n",
    "    row: row of dataframe\n",
    "\n",
    "    returns:\n",
    "    new_row: new dataframe with filtered data\n",
    "    \"\"\"\n",
    "    \n",
    "    return row['team_a_score'] - row['team_b_score']"
   ]
  },
  {
   "cell_type": "code",
   "execution_count": 17,
   "metadata": {},
   "outputs": [
    {
     "data": {
      "text/html": [
       "<div>\n",
       "<style scoped>\n",
       "    .dataframe tbody tr th:only-of-type {\n",
       "        vertical-align: middle;\n",
       "    }\n",
       "\n",
       "    .dataframe tbody tr th {\n",
       "        vertical-align: top;\n",
       "    }\n",
       "\n",
       "    .dataframe thead th {\n",
       "        text-align: right;\n",
       "    }\n",
       "</style>\n",
       "<table border=\"1\" class=\"dataframe\">\n",
       "  <thead>\n",
       "    <tr style=\"text-align: right;\">\n",
       "      <th></th>\n",
       "      <th>team_a</th>\n",
       "      <th>team_a_encoded</th>\n",
       "      <th>team_a_score</th>\n",
       "      <th>team_b</th>\n",
       "      <th>team_b_encoded</th>\n",
       "      <th>team_b_score</th>\n",
       "      <th>score_diff</th>\n",
       "    </tr>\n",
       "  </thead>\n",
       "  <tbody>\n",
       "    <tr>\n",
       "      <th>0</th>\n",
       "      <td>1228</td>\n",
       "      <td>127</td>\n",
       "      <td>81</td>\n",
       "      <td>1328</td>\n",
       "      <td>227</td>\n",
       "      <td>64</td>\n",
       "      <td>17</td>\n",
       "    </tr>\n",
       "    <tr>\n",
       "      <th>1</th>\n",
       "      <td>1112</td>\n",
       "      <td>11</td>\n",
       "      <td>63</td>\n",
       "      <td>1223</td>\n",
       "      <td>122</td>\n",
       "      <td>56</td>\n",
       "      <td>7</td>\n",
       "    </tr>\n",
       "    <tr>\n",
       "      <th>2</th>\n",
       "      <td>1226</td>\n",
       "      <td>125</td>\n",
       "      <td>44</td>\n",
       "      <td>1228</td>\n",
       "      <td>127</td>\n",
       "      <td>64</td>\n",
       "      <td>-20</td>\n",
       "    </tr>\n",
       "    <tr>\n",
       "      <th>3</th>\n",
       "      <td>1242</td>\n",
       "      <td>141</td>\n",
       "      <td>58</td>\n",
       "      <td>1268</td>\n",
       "      <td>167</td>\n",
       "      <td>56</td>\n",
       "      <td>2</td>\n",
       "    </tr>\n",
       "    <tr>\n",
       "      <th>4</th>\n",
       "      <td>1305</td>\n",
       "      <td>204</td>\n",
       "      <td>97</td>\n",
       "      <td>1424</td>\n",
       "      <td>323</td>\n",
       "      <td>89</td>\n",
       "      <td>8</td>\n",
       "    </tr>\n",
       "  </tbody>\n",
       "</table>\n",
       "</div>"
      ],
      "text/plain": [
       "   team_a  team_a_encoded  team_a_score  team_b  team_b_encoded  team_b_score  \\\n",
       "0    1228             127            81    1328             227            64   \n",
       "1    1112              11            63    1223             122            56   \n",
       "2    1226             125            44    1228             127            64   \n",
       "3    1242             141            58    1268             167            56   \n",
       "4    1305             204            97    1424             323            89   \n",
       "\n",
       "   score_diff  \n",
       "0          17  \n",
       "1           7  \n",
       "2         -20  \n",
       "3           2  \n",
       "4           8  "
      ]
     },
     "execution_count": 17,
     "metadata": {},
     "output_type": "execute_result"
    }
   ],
   "source": [
    "result_history_df[\"score_diff\"] = result_history_df.apply(calculate_score_diff, axis=1)\n",
    "result_history_df.head()"
   ]
  },
  {
   "cell_type": "markdown",
   "metadata": {},
   "source": [
    "Split data into train and test"
   ]
  },
  {
   "cell_type": "code",
   "execution_count": 18,
   "metadata": {},
   "outputs": [],
   "source": [
    "features = ['team_a_encoded', 'team_b_encoded']\n",
    "target = 'score_diff'\n",
    "\n",
    "X = result_history_df[features]\n",
    "y = result_history_df[target]\n"
   ]
  },
  {
   "cell_type": "code",
   "execution_count": 19,
   "metadata": {},
   "outputs": [
    {
     "name": "stdout",
     "output_type": "stream",
     "text": [
      "60086 15022 60086 15022\n"
     ]
    }
   ],
   "source": [
    "X_train, X_test, y_train, y_test = train_test_split(X, y, test_size=0.2, random_state=42)\n",
    "\n",
    "print(len(X_train), len(X_test), len(y_train), len(y_test))"
   ]
  },
  {
   "cell_type": "markdown",
   "metadata": {},
   "source": [
    "## Build model"
   ]
  },
  {
   "cell_type": "code",
   "execution_count": 20,
   "metadata": {},
   "outputs": [],
   "source": [
    "\n",
    "def get_model(num_teams, embedding_dim=32):\n",
    "    \"\"\"\n",
    "    parameters:\n",
    "    num_teams: number of teams in dataset\n",
    "    embedding_dim: dimension of embedding layer\n",
    "\n",
    "    returns:\n",
    "    model: compiled tensorflow model\n",
    "    \n",
    "    \"\"\"\n",
    "    team_a = Input(shape=(1,), name='team_a')\n",
    "    team_b = Input(shape=(1,), name='team_b')\n",
    "\n",
    "    team_a_embedding = Embedding(num_teams, embedding_dim, name='team_a_embedding')(team_a)\n",
    "    team_b_embedding = Embedding(num_teams, embedding_dim, name='team_b_embedding')(team_b)\n",
    "    \n",
    "    team_a_flat = Flatten()(team_a_embedding)\n",
    "    team_b_flat = Flatten()(team_b_embedding)\n",
    "    merged = Concatenate()([team_a_flat, team_b_flat])\n",
    "    \n",
    "    dense_1 = Dense(1024, kernel_regularizer=l2(0.001))(merged)  \n",
    "    dense_1 = BatchNormalization()(dense_1)\n",
    "    dense_1 = LeakyReLU()(dense_1)\n",
    "    dense_1 = Dropout(0.6)(dense_1)  \n",
    "    \n",
    "    dense_2 = Dense(512, kernel_regularizer=l2(0.001))(dense_1)  \n",
    "    dense_2 = BatchNormalization()(dense_2)\n",
    "    dense_2 = LeakyReLU()(dense_2)\n",
    "    dense_2 = Dropout(0.6)(dense_2)  \n",
    "\n",
    "    dense_3 = Dense(256, kernel_regularizer=l2(0.001))(dense_2)  \n",
    "    dense_3 = BatchNormalization()(dense_3)\n",
    "    dense_3 = LeakyReLU()(dense_3)\n",
    "    dense_3 = Dropout(0.6)(dense_3)  \n",
    "\n",
    "    output_layer = Dense(1, activation='linear', name='output')(dense_3)\n",
    "\n",
    "    model = Model(inputs=[team_a, team_b], outputs=output_layer)\n",
    "\n",
    "    optimizer = Adam(learning_rate=0.0001)  \n",
    "    loss_fn = MeanSquaredError()\n",
    "    metrics = [MeanAbsoluteError()]\n",
    "    \n",
    "    reduce_lr = ReduceLROnPlateau(monitor='val_loss', factor=0.2, patience=5, min_lr=0.0001)\n",
    "    early_stop = EarlyStopping(monitor='val_loss', patience=10, restore_best_weights=True)\n",
    "\n",
    "    model.compile(optimizer=optimizer, loss=loss_fn, metrics=metrics)\n",
    "    \n",
    "    return model, reduce_lr, early_stop\n",
    "\n"
   ]
  },
  {
   "cell_type": "markdown",
   "metadata": {},
   "source": [
    "Fit the model"
   ]
  },
  {
   "cell_type": "code",
   "execution_count": 21,
   "metadata": {},
   "outputs": [
    {
     "data": {
      "text/html": [
       "<pre style=\"white-space:pre;overflow-x:auto;line-height:normal;font-family:Menlo,'DejaVu Sans Mono',consolas,'Courier New',monospace\"><span style=\"font-weight: bold\">Model: \"functional_1\"</span>\n",
       "</pre>\n"
      ],
      "text/plain": [
       "\u001b[1mModel: \"functional_1\"\u001b[0m\n"
      ]
     },
     "metadata": {},
     "output_type": "display_data"
    },
    {
     "data": {
      "text/html": [
       "<pre style=\"white-space:pre;overflow-x:auto;line-height:normal;font-family:Menlo,'DejaVu Sans Mono',consolas,'Courier New',monospace\">┏━━━━━━━━━━━━━━━━━━━━━┳━━━━━━━━━━━━━━━━━━━┳━━━━━━━━━━━━┳━━━━━━━━━━━━━━━━━━━┓\n",
       "┃<span style=\"font-weight: bold\"> Layer (type)        </span>┃<span style=\"font-weight: bold\"> Output Shape      </span>┃<span style=\"font-weight: bold\">    Param # </span>┃<span style=\"font-weight: bold\"> Connected to      </span>┃\n",
       "┡━━━━━━━━━━━━━━━━━━━━━╇━━━━━━━━━━━━━━━━━━━╇━━━━━━━━━━━━╇━━━━━━━━━━━━━━━━━━━┩\n",
       "│ team_a (<span style=\"color: #0087ff; text-decoration-color: #0087ff\">InputLayer</span>) │ (<span style=\"color: #00d7ff; text-decoration-color: #00d7ff\">None</span>, <span style=\"color: #00af00; text-decoration-color: #00af00\">1</span>)         │          <span style=\"color: #00af00; text-decoration-color: #00af00\">0</span> │ -                 │\n",
       "├─────────────────────┼───────────────────┼────────────┼───────────────────┤\n",
       "│ team_b (<span style=\"color: #0087ff; text-decoration-color: #0087ff\">InputLayer</span>) │ (<span style=\"color: #00d7ff; text-decoration-color: #00d7ff\">None</span>, <span style=\"color: #00af00; text-decoration-color: #00af00\">1</span>)         │          <span style=\"color: #00af00; text-decoration-color: #00af00\">0</span> │ -                 │\n",
       "├─────────────────────┼───────────────────┼────────────┼───────────────────┤\n",
       "│ team_a_embedding    │ (<span style=\"color: #00d7ff; text-decoration-color: #00d7ff\">None</span>, <span style=\"color: #00af00; text-decoration-color: #00af00\">1</span>, <span style=\"color: #00af00; text-decoration-color: #00af00\">32</span>)     │     <span style=\"color: #00af00; text-decoration-color: #00af00\">12,064</span> │ team_a[<span style=\"color: #00af00; text-decoration-color: #00af00\">0</span>][<span style=\"color: #00af00; text-decoration-color: #00af00\">0</span>]      │\n",
       "│ (<span style=\"color: #0087ff; text-decoration-color: #0087ff\">Embedding</span>)         │                   │            │                   │\n",
       "├─────────────────────┼───────────────────┼────────────┼───────────────────┤\n",
       "│ team_b_embedding    │ (<span style=\"color: #00d7ff; text-decoration-color: #00d7ff\">None</span>, <span style=\"color: #00af00; text-decoration-color: #00af00\">1</span>, <span style=\"color: #00af00; text-decoration-color: #00af00\">32</span>)     │     <span style=\"color: #00af00; text-decoration-color: #00af00\">12,064</span> │ team_b[<span style=\"color: #00af00; text-decoration-color: #00af00\">0</span>][<span style=\"color: #00af00; text-decoration-color: #00af00\">0</span>]      │\n",
       "│ (<span style=\"color: #0087ff; text-decoration-color: #0087ff\">Embedding</span>)         │                   │            │                   │\n",
       "├─────────────────────┼───────────────────┼────────────┼───────────────────┤\n",
       "│ flatten (<span style=\"color: #0087ff; text-decoration-color: #0087ff\">Flatten</span>)   │ (<span style=\"color: #00d7ff; text-decoration-color: #00d7ff\">None</span>, <span style=\"color: #00af00; text-decoration-color: #00af00\">32</span>)        │          <span style=\"color: #00af00; text-decoration-color: #00af00\">0</span> │ team_a_embedding… │\n",
       "├─────────────────────┼───────────────────┼────────────┼───────────────────┤\n",
       "│ flatten_1 (<span style=\"color: #0087ff; text-decoration-color: #0087ff\">Flatten</span>) │ (<span style=\"color: #00d7ff; text-decoration-color: #00d7ff\">None</span>, <span style=\"color: #00af00; text-decoration-color: #00af00\">32</span>)        │          <span style=\"color: #00af00; text-decoration-color: #00af00\">0</span> │ team_b_embedding… │\n",
       "├─────────────────────┼───────────────────┼────────────┼───────────────────┤\n",
       "│ concatenate         │ (<span style=\"color: #00d7ff; text-decoration-color: #00d7ff\">None</span>, <span style=\"color: #00af00; text-decoration-color: #00af00\">64</span>)        │          <span style=\"color: #00af00; text-decoration-color: #00af00\">0</span> │ flatten[<span style=\"color: #00af00; text-decoration-color: #00af00\">0</span>][<span style=\"color: #00af00; text-decoration-color: #00af00\">0</span>],    │\n",
       "│ (<span style=\"color: #0087ff; text-decoration-color: #0087ff\">Concatenate</span>)       │                   │            │ flatten_1[<span style=\"color: #00af00; text-decoration-color: #00af00\">0</span>][<span style=\"color: #00af00; text-decoration-color: #00af00\">0</span>]   │\n",
       "├─────────────────────┼───────────────────┼────────────┼───────────────────┤\n",
       "│ dense (<span style=\"color: #0087ff; text-decoration-color: #0087ff\">Dense</span>)       │ (<span style=\"color: #00d7ff; text-decoration-color: #00d7ff\">None</span>, <span style=\"color: #00af00; text-decoration-color: #00af00\">1024</span>)      │     <span style=\"color: #00af00; text-decoration-color: #00af00\">66,560</span> │ concatenate[<span style=\"color: #00af00; text-decoration-color: #00af00\">0</span>][<span style=\"color: #00af00; text-decoration-color: #00af00\">0</span>] │\n",
       "├─────────────────────┼───────────────────┼────────────┼───────────────────┤\n",
       "│ batch_normalization │ (<span style=\"color: #00d7ff; text-decoration-color: #00d7ff\">None</span>, <span style=\"color: #00af00; text-decoration-color: #00af00\">1024</span>)      │      <span style=\"color: #00af00; text-decoration-color: #00af00\">4,096</span> │ dense[<span style=\"color: #00af00; text-decoration-color: #00af00\">0</span>][<span style=\"color: #00af00; text-decoration-color: #00af00\">0</span>]       │\n",
       "│ (<span style=\"color: #0087ff; text-decoration-color: #0087ff\">BatchNormalizatio…</span> │                   │            │                   │\n",
       "├─────────────────────┼───────────────────┼────────────┼───────────────────┤\n",
       "│ leaky_re_lu         │ (<span style=\"color: #00d7ff; text-decoration-color: #00d7ff\">None</span>, <span style=\"color: #00af00; text-decoration-color: #00af00\">1024</span>)      │          <span style=\"color: #00af00; text-decoration-color: #00af00\">0</span> │ batch_normalizat… │\n",
       "│ (<span style=\"color: #0087ff; text-decoration-color: #0087ff\">LeakyReLU</span>)         │                   │            │                   │\n",
       "├─────────────────────┼───────────────────┼────────────┼───────────────────┤\n",
       "│ dropout (<span style=\"color: #0087ff; text-decoration-color: #0087ff\">Dropout</span>)   │ (<span style=\"color: #00d7ff; text-decoration-color: #00d7ff\">None</span>, <span style=\"color: #00af00; text-decoration-color: #00af00\">1024</span>)      │          <span style=\"color: #00af00; text-decoration-color: #00af00\">0</span> │ leaky_re_lu[<span style=\"color: #00af00; text-decoration-color: #00af00\">0</span>][<span style=\"color: #00af00; text-decoration-color: #00af00\">0</span>] │\n",
       "├─────────────────────┼───────────────────┼────────────┼───────────────────┤\n",
       "│ dense_1 (<span style=\"color: #0087ff; text-decoration-color: #0087ff\">Dense</span>)     │ (<span style=\"color: #00d7ff; text-decoration-color: #00d7ff\">None</span>, <span style=\"color: #00af00; text-decoration-color: #00af00\">512</span>)       │    <span style=\"color: #00af00; text-decoration-color: #00af00\">524,800</span> │ dropout[<span style=\"color: #00af00; text-decoration-color: #00af00\">0</span>][<span style=\"color: #00af00; text-decoration-color: #00af00\">0</span>]     │\n",
       "├─────────────────────┼───────────────────┼────────────┼───────────────────┤\n",
       "│ batch_normalizatio… │ (<span style=\"color: #00d7ff; text-decoration-color: #00d7ff\">None</span>, <span style=\"color: #00af00; text-decoration-color: #00af00\">512</span>)       │      <span style=\"color: #00af00; text-decoration-color: #00af00\">2,048</span> │ dense_1[<span style=\"color: #00af00; text-decoration-color: #00af00\">0</span>][<span style=\"color: #00af00; text-decoration-color: #00af00\">0</span>]     │\n",
       "│ (<span style=\"color: #0087ff; text-decoration-color: #0087ff\">BatchNormalizatio…</span> │                   │            │                   │\n",
       "├─────────────────────┼───────────────────┼────────────┼───────────────────┤\n",
       "│ leaky_re_lu_1       │ (<span style=\"color: #00d7ff; text-decoration-color: #00d7ff\">None</span>, <span style=\"color: #00af00; text-decoration-color: #00af00\">512</span>)       │          <span style=\"color: #00af00; text-decoration-color: #00af00\">0</span> │ batch_normalizat… │\n",
       "│ (<span style=\"color: #0087ff; text-decoration-color: #0087ff\">LeakyReLU</span>)         │                   │            │                   │\n",
       "├─────────────────────┼───────────────────┼────────────┼───────────────────┤\n",
       "│ dropout_1 (<span style=\"color: #0087ff; text-decoration-color: #0087ff\">Dropout</span>) │ (<span style=\"color: #00d7ff; text-decoration-color: #00d7ff\">None</span>, <span style=\"color: #00af00; text-decoration-color: #00af00\">512</span>)       │          <span style=\"color: #00af00; text-decoration-color: #00af00\">0</span> │ leaky_re_lu_1[<span style=\"color: #00af00; text-decoration-color: #00af00\">0</span>]… │\n",
       "├─────────────────────┼───────────────────┼────────────┼───────────────────┤\n",
       "│ dense_2 (<span style=\"color: #0087ff; text-decoration-color: #0087ff\">Dense</span>)     │ (<span style=\"color: #00d7ff; text-decoration-color: #00d7ff\">None</span>, <span style=\"color: #00af00; text-decoration-color: #00af00\">256</span>)       │    <span style=\"color: #00af00; text-decoration-color: #00af00\">131,328</span> │ dropout_1[<span style=\"color: #00af00; text-decoration-color: #00af00\">0</span>][<span style=\"color: #00af00; text-decoration-color: #00af00\">0</span>]   │\n",
       "├─────────────────────┼───────────────────┼────────────┼───────────────────┤\n",
       "│ batch_normalizatio… │ (<span style=\"color: #00d7ff; text-decoration-color: #00d7ff\">None</span>, <span style=\"color: #00af00; text-decoration-color: #00af00\">256</span>)       │      <span style=\"color: #00af00; text-decoration-color: #00af00\">1,024</span> │ dense_2[<span style=\"color: #00af00; text-decoration-color: #00af00\">0</span>][<span style=\"color: #00af00; text-decoration-color: #00af00\">0</span>]     │\n",
       "│ (<span style=\"color: #0087ff; text-decoration-color: #0087ff\">BatchNormalizatio…</span> │                   │            │                   │\n",
       "├─────────────────────┼───────────────────┼────────────┼───────────────────┤\n",
       "│ leaky_re_lu_2       │ (<span style=\"color: #00d7ff; text-decoration-color: #00d7ff\">None</span>, <span style=\"color: #00af00; text-decoration-color: #00af00\">256</span>)       │          <span style=\"color: #00af00; text-decoration-color: #00af00\">0</span> │ batch_normalizat… │\n",
       "│ (<span style=\"color: #0087ff; text-decoration-color: #0087ff\">LeakyReLU</span>)         │                   │            │                   │\n",
       "├─────────────────────┼───────────────────┼────────────┼───────────────────┤\n",
       "│ dropout_2 (<span style=\"color: #0087ff; text-decoration-color: #0087ff\">Dropout</span>) │ (<span style=\"color: #00d7ff; text-decoration-color: #00d7ff\">None</span>, <span style=\"color: #00af00; text-decoration-color: #00af00\">256</span>)       │          <span style=\"color: #00af00; text-decoration-color: #00af00\">0</span> │ leaky_re_lu_2[<span style=\"color: #00af00; text-decoration-color: #00af00\">0</span>]… │\n",
       "├─────────────────────┼───────────────────┼────────────┼───────────────────┤\n",
       "│ output (<span style=\"color: #0087ff; text-decoration-color: #0087ff\">Dense</span>)      │ (<span style=\"color: #00d7ff; text-decoration-color: #00d7ff\">None</span>, <span style=\"color: #00af00; text-decoration-color: #00af00\">1</span>)         │        <span style=\"color: #00af00; text-decoration-color: #00af00\">257</span> │ dropout_2[<span style=\"color: #00af00; text-decoration-color: #00af00\">0</span>][<span style=\"color: #00af00; text-decoration-color: #00af00\">0</span>]   │\n",
       "└─────────────────────┴───────────────────┴────────────┴───────────────────┘\n",
       "</pre>\n"
      ],
      "text/plain": [
       "┏━━━━━━━━━━━━━━━━━━━━━┳━━━━━━━━━━━━━━━━━━━┳━━━━━━━━━━━━┳━━━━━━━━━━━━━━━━━━━┓\n",
       "┃\u001b[1m \u001b[0m\u001b[1mLayer (type)       \u001b[0m\u001b[1m \u001b[0m┃\u001b[1m \u001b[0m\u001b[1mOutput Shape     \u001b[0m\u001b[1m \u001b[0m┃\u001b[1m \u001b[0m\u001b[1m   Param #\u001b[0m\u001b[1m \u001b[0m┃\u001b[1m \u001b[0m\u001b[1mConnected to     \u001b[0m\u001b[1m \u001b[0m┃\n",
       "┡━━━━━━━━━━━━━━━━━━━━━╇━━━━━━━━━━━━━━━━━━━╇━━━━━━━━━━━━╇━━━━━━━━━━━━━━━━━━━┩\n",
       "│ team_a (\u001b[38;5;33mInputLayer\u001b[0m) │ (\u001b[38;5;45mNone\u001b[0m, \u001b[38;5;34m1\u001b[0m)         │          \u001b[38;5;34m0\u001b[0m │ -                 │\n",
       "├─────────────────────┼───────────────────┼────────────┼───────────────────┤\n",
       "│ team_b (\u001b[38;5;33mInputLayer\u001b[0m) │ (\u001b[38;5;45mNone\u001b[0m, \u001b[38;5;34m1\u001b[0m)         │          \u001b[38;5;34m0\u001b[0m │ -                 │\n",
       "├─────────────────────┼───────────────────┼────────────┼───────────────────┤\n",
       "│ team_a_embedding    │ (\u001b[38;5;45mNone\u001b[0m, \u001b[38;5;34m1\u001b[0m, \u001b[38;5;34m32\u001b[0m)     │     \u001b[38;5;34m12,064\u001b[0m │ team_a[\u001b[38;5;34m0\u001b[0m][\u001b[38;5;34m0\u001b[0m]      │\n",
       "│ (\u001b[38;5;33mEmbedding\u001b[0m)         │                   │            │                   │\n",
       "├─────────────────────┼───────────────────┼────────────┼───────────────────┤\n",
       "│ team_b_embedding    │ (\u001b[38;5;45mNone\u001b[0m, \u001b[38;5;34m1\u001b[0m, \u001b[38;5;34m32\u001b[0m)     │     \u001b[38;5;34m12,064\u001b[0m │ team_b[\u001b[38;5;34m0\u001b[0m][\u001b[38;5;34m0\u001b[0m]      │\n",
       "│ (\u001b[38;5;33mEmbedding\u001b[0m)         │                   │            │                   │\n",
       "├─────────────────────┼───────────────────┼────────────┼───────────────────┤\n",
       "│ flatten (\u001b[38;5;33mFlatten\u001b[0m)   │ (\u001b[38;5;45mNone\u001b[0m, \u001b[38;5;34m32\u001b[0m)        │          \u001b[38;5;34m0\u001b[0m │ team_a_embedding… │\n",
       "├─────────────────────┼───────────────────┼────────────┼───────────────────┤\n",
       "│ flatten_1 (\u001b[38;5;33mFlatten\u001b[0m) │ (\u001b[38;5;45mNone\u001b[0m, \u001b[38;5;34m32\u001b[0m)        │          \u001b[38;5;34m0\u001b[0m │ team_b_embedding… │\n",
       "├─────────────────────┼───────────────────┼────────────┼───────────────────┤\n",
       "│ concatenate         │ (\u001b[38;5;45mNone\u001b[0m, \u001b[38;5;34m64\u001b[0m)        │          \u001b[38;5;34m0\u001b[0m │ flatten[\u001b[38;5;34m0\u001b[0m][\u001b[38;5;34m0\u001b[0m],    │\n",
       "│ (\u001b[38;5;33mConcatenate\u001b[0m)       │                   │            │ flatten_1[\u001b[38;5;34m0\u001b[0m][\u001b[38;5;34m0\u001b[0m]   │\n",
       "├─────────────────────┼───────────────────┼────────────┼───────────────────┤\n",
       "│ dense (\u001b[38;5;33mDense\u001b[0m)       │ (\u001b[38;5;45mNone\u001b[0m, \u001b[38;5;34m1024\u001b[0m)      │     \u001b[38;5;34m66,560\u001b[0m │ concatenate[\u001b[38;5;34m0\u001b[0m][\u001b[38;5;34m0\u001b[0m] │\n",
       "├─────────────────────┼───────────────────┼────────────┼───────────────────┤\n",
       "│ batch_normalization │ (\u001b[38;5;45mNone\u001b[0m, \u001b[38;5;34m1024\u001b[0m)      │      \u001b[38;5;34m4,096\u001b[0m │ dense[\u001b[38;5;34m0\u001b[0m][\u001b[38;5;34m0\u001b[0m]       │\n",
       "│ (\u001b[38;5;33mBatchNormalizatio…\u001b[0m │                   │            │                   │\n",
       "├─────────────────────┼───────────────────┼────────────┼───────────────────┤\n",
       "│ leaky_re_lu         │ (\u001b[38;5;45mNone\u001b[0m, \u001b[38;5;34m1024\u001b[0m)      │          \u001b[38;5;34m0\u001b[0m │ batch_normalizat… │\n",
       "│ (\u001b[38;5;33mLeakyReLU\u001b[0m)         │                   │            │                   │\n",
       "├─────────────────────┼───────────────────┼────────────┼───────────────────┤\n",
       "│ dropout (\u001b[38;5;33mDropout\u001b[0m)   │ (\u001b[38;5;45mNone\u001b[0m, \u001b[38;5;34m1024\u001b[0m)      │          \u001b[38;5;34m0\u001b[0m │ leaky_re_lu[\u001b[38;5;34m0\u001b[0m][\u001b[38;5;34m0\u001b[0m] │\n",
       "├─────────────────────┼───────────────────┼────────────┼───────────────────┤\n",
       "│ dense_1 (\u001b[38;5;33mDense\u001b[0m)     │ (\u001b[38;5;45mNone\u001b[0m, \u001b[38;5;34m512\u001b[0m)       │    \u001b[38;5;34m524,800\u001b[0m │ dropout[\u001b[38;5;34m0\u001b[0m][\u001b[38;5;34m0\u001b[0m]     │\n",
       "├─────────────────────┼───────────────────┼────────────┼───────────────────┤\n",
       "│ batch_normalizatio… │ (\u001b[38;5;45mNone\u001b[0m, \u001b[38;5;34m512\u001b[0m)       │      \u001b[38;5;34m2,048\u001b[0m │ dense_1[\u001b[38;5;34m0\u001b[0m][\u001b[38;5;34m0\u001b[0m]     │\n",
       "│ (\u001b[38;5;33mBatchNormalizatio…\u001b[0m │                   │            │                   │\n",
       "├─────────────────────┼───────────────────┼────────────┼───────────────────┤\n",
       "│ leaky_re_lu_1       │ (\u001b[38;5;45mNone\u001b[0m, \u001b[38;5;34m512\u001b[0m)       │          \u001b[38;5;34m0\u001b[0m │ batch_normalizat… │\n",
       "│ (\u001b[38;5;33mLeakyReLU\u001b[0m)         │                   │            │                   │\n",
       "├─────────────────────┼───────────────────┼────────────┼───────────────────┤\n",
       "│ dropout_1 (\u001b[38;5;33mDropout\u001b[0m) │ (\u001b[38;5;45mNone\u001b[0m, \u001b[38;5;34m512\u001b[0m)       │          \u001b[38;5;34m0\u001b[0m │ leaky_re_lu_1[\u001b[38;5;34m0\u001b[0m]… │\n",
       "├─────────────────────┼───────────────────┼────────────┼───────────────────┤\n",
       "│ dense_2 (\u001b[38;5;33mDense\u001b[0m)     │ (\u001b[38;5;45mNone\u001b[0m, \u001b[38;5;34m256\u001b[0m)       │    \u001b[38;5;34m131,328\u001b[0m │ dropout_1[\u001b[38;5;34m0\u001b[0m][\u001b[38;5;34m0\u001b[0m]   │\n",
       "├─────────────────────┼───────────────────┼────────────┼───────────────────┤\n",
       "│ batch_normalizatio… │ (\u001b[38;5;45mNone\u001b[0m, \u001b[38;5;34m256\u001b[0m)       │      \u001b[38;5;34m1,024\u001b[0m │ dense_2[\u001b[38;5;34m0\u001b[0m][\u001b[38;5;34m0\u001b[0m]     │\n",
       "│ (\u001b[38;5;33mBatchNormalizatio…\u001b[0m │                   │            │                   │\n",
       "├─────────────────────┼───────────────────┼────────────┼───────────────────┤\n",
       "│ leaky_re_lu_2       │ (\u001b[38;5;45mNone\u001b[0m, \u001b[38;5;34m256\u001b[0m)       │          \u001b[38;5;34m0\u001b[0m │ batch_normalizat… │\n",
       "│ (\u001b[38;5;33mLeakyReLU\u001b[0m)         │                   │            │                   │\n",
       "├─────────────────────┼───────────────────┼────────────┼───────────────────┤\n",
       "│ dropout_2 (\u001b[38;5;33mDropout\u001b[0m) │ (\u001b[38;5;45mNone\u001b[0m, \u001b[38;5;34m256\u001b[0m)       │          \u001b[38;5;34m0\u001b[0m │ leaky_re_lu_2[\u001b[38;5;34m0\u001b[0m]… │\n",
       "├─────────────────────┼───────────────────┼────────────┼───────────────────┤\n",
       "│ output (\u001b[38;5;33mDense\u001b[0m)      │ (\u001b[38;5;45mNone\u001b[0m, \u001b[38;5;34m1\u001b[0m)         │        \u001b[38;5;34m257\u001b[0m │ dropout_2[\u001b[38;5;34m0\u001b[0m][\u001b[38;5;34m0\u001b[0m]   │\n",
       "└─────────────────────┴───────────────────┴────────────┴───────────────────┘\n"
      ]
     },
     "metadata": {},
     "output_type": "display_data"
    },
    {
     "data": {
      "text/html": [
       "<pre style=\"white-space:pre;overflow-x:auto;line-height:normal;font-family:Menlo,'DejaVu Sans Mono',consolas,'Courier New',monospace\"><span style=\"font-weight: bold\"> Total params: </span><span style=\"color: #00af00; text-decoration-color: #00af00\">754,241</span> (2.88 MB)\n",
       "</pre>\n"
      ],
      "text/plain": [
       "\u001b[1m Total params: \u001b[0m\u001b[38;5;34m754,241\u001b[0m (2.88 MB)\n"
      ]
     },
     "metadata": {},
     "output_type": "display_data"
    },
    {
     "data": {
      "text/html": [
       "<pre style=\"white-space:pre;overflow-x:auto;line-height:normal;font-family:Menlo,'DejaVu Sans Mono',consolas,'Courier New',monospace\"><span style=\"font-weight: bold\"> Trainable params: </span><span style=\"color: #00af00; text-decoration-color: #00af00\">750,657</span> (2.86 MB)\n",
       "</pre>\n"
      ],
      "text/plain": [
       "\u001b[1m Trainable params: \u001b[0m\u001b[38;5;34m750,657\u001b[0m (2.86 MB)\n"
      ]
     },
     "metadata": {},
     "output_type": "display_data"
    },
    {
     "data": {
      "text/html": [
       "<pre style=\"white-space:pre;overflow-x:auto;line-height:normal;font-family:Menlo,'DejaVu Sans Mono',consolas,'Courier New',monospace\"><span style=\"font-weight: bold\"> Non-trainable params: </span><span style=\"color: #00af00; text-decoration-color: #00af00\">3,584</span> (14.00 KB)\n",
       "</pre>\n"
      ],
      "text/plain": [
       "\u001b[1m Non-trainable params: \u001b[0m\u001b[38;5;34m3,584\u001b[0m (14.00 KB)\n"
      ]
     },
     "metadata": {},
     "output_type": "display_data"
    }
   ],
   "source": [
    "Brackets_model, reduce_lr, early_stop = get_model(num_teams)   \n",
    "Brackets_model.summary()"
   ]
  },
  {
   "cell_type": "code",
   "execution_count": 22,
   "metadata": {},
   "outputs": [
    {
     "name": "stdout",
     "output_type": "stream",
     "text": [
      "Epoch 1/100\n",
      "\u001b[1m752/752\u001b[0m \u001b[32m━━━━━━━━━━━━━━━━━━━━\u001b[0m\u001b[37m\u001b[0m \u001b[1m9s\u001b[0m 9ms/step - loss: 254.7673 - mean_absolute_error: 12.5216 - val_loss: 213.9269 - val_mean_absolute_error: 11.4730 - learning_rate: 1.0000e-04\n",
      "Epoch 2/100\n",
      "\u001b[1m752/752\u001b[0m \u001b[32m━━━━━━━━━━━━━━━━━━━━\u001b[0m\u001b[37m\u001b[0m \u001b[1m6s\u001b[0m 8ms/step - loss: 205.1811 - mean_absolute_error: 11.3009 - val_loss: 182.8196 - val_mean_absolute_error: 10.6580 - learning_rate: 1.0000e-04\n",
      "Epoch 3/100\n",
      "\u001b[1m752/752\u001b[0m \u001b[32m━━━━━━━━━━━━━━━━━━━━\u001b[0m\u001b[37m\u001b[0m \u001b[1m6s\u001b[0m 8ms/step - loss: 189.1259 - mean_absolute_error: 10.8719 - val_loss: 179.4461 - val_mean_absolute_error: 10.5633 - learning_rate: 1.0000e-04\n",
      "Epoch 4/100\n",
      "\u001b[1m752/752\u001b[0m \u001b[32m━━━━━━━━━━━━━━━━━━━━\u001b[0m\u001b[37m\u001b[0m \u001b[1m6s\u001b[0m 8ms/step - loss: 185.4089 - mean_absolute_error: 10.7641 - val_loss: 178.4012 - val_mean_absolute_error: 10.5357 - learning_rate: 1.0000e-04\n",
      "Epoch 5/100\n",
      "\u001b[1m752/752\u001b[0m \u001b[32m━━━━━━━━━━━━━━━━━━━━\u001b[0m\u001b[37m\u001b[0m \u001b[1m6s\u001b[0m 8ms/step - loss: 184.2686 - mean_absolute_error: 10.7298 - val_loss: 178.0064 - val_mean_absolute_error: 10.5254 - learning_rate: 1.0000e-04\n",
      "Epoch 6/100\n",
      "\u001b[1m752/752\u001b[0m \u001b[32m━━━━━━━━━━━━━━━━━━━━\u001b[0m\u001b[37m\u001b[0m \u001b[1m6s\u001b[0m 8ms/step - loss: 183.5249 - mean_absolute_error: 10.7005 - val_loss: 177.8519 - val_mean_absolute_error: 10.5234 - learning_rate: 1.0000e-04\n",
      "Epoch 7/100\n",
      "\u001b[1m752/752\u001b[0m \u001b[32m━━━━━━━━━━━━━━━━━━━━\u001b[0m\u001b[37m\u001b[0m \u001b[1m6s\u001b[0m 8ms/step - loss: 182.4452 - mean_absolute_error: 10.6547 - val_loss: 177.5647 - val_mean_absolute_error: 10.5183 - learning_rate: 1.0000e-04\n",
      "Epoch 8/100\n",
      "\u001b[1m752/752\u001b[0m \u001b[32m━━━━━━━━━━━━━━━━━━━━\u001b[0m\u001b[37m\u001b[0m \u001b[1m6s\u001b[0m 8ms/step - loss: 181.8754 - mean_absolute_error: 10.6537 - val_loss: 177.4011 - val_mean_absolute_error: 10.5176 - learning_rate: 1.0000e-04\n",
      "Epoch 9/100\n",
      "\u001b[1m752/752\u001b[0m \u001b[32m━━━━━━━━━━━━━━━━━━━━\u001b[0m\u001b[37m\u001b[0m \u001b[1m6s\u001b[0m 8ms/step - loss: 181.9509 - mean_absolute_error: 10.6658 - val_loss: 177.1796 - val_mean_absolute_error: 10.5070 - learning_rate: 1.0000e-04\n",
      "Epoch 10/100\n",
      "\u001b[1m752/752\u001b[0m \u001b[32m━━━━━━━━━━━━━━━━━━━━\u001b[0m\u001b[37m\u001b[0m \u001b[1m6s\u001b[0m 8ms/step - loss: 181.4368 - mean_absolute_error: 10.6475 - val_loss: 177.2573 - val_mean_absolute_error: 10.5186 - learning_rate: 1.0000e-04\n",
      "Epoch 11/100\n",
      "\u001b[1m752/752\u001b[0m \u001b[32m━━━━━━━━━━━━━━━━━━━━\u001b[0m\u001b[37m\u001b[0m \u001b[1m6s\u001b[0m 8ms/step - loss: 181.2839 - mean_absolute_error: 10.6438 - val_loss: 177.1846 - val_mean_absolute_error: 10.5193 - learning_rate: 1.0000e-04\n",
      "Epoch 12/100\n",
      "\u001b[1m752/752\u001b[0m \u001b[32m━━━━━━━━━━━━━━━━━━━━\u001b[0m\u001b[37m\u001b[0m \u001b[1m6s\u001b[0m 8ms/step - loss: 180.7123 - mean_absolute_error: 10.6271 - val_loss: 177.2380 - val_mean_absolute_error: 10.5202 - learning_rate: 1.0000e-04\n",
      "Epoch 13/100\n",
      "\u001b[1m752/752\u001b[0m \u001b[32m━━━━━━━━━━━━━━━━━━━━\u001b[0m\u001b[37m\u001b[0m \u001b[1m6s\u001b[0m 8ms/step - loss: 179.9920 - mean_absolute_error: 10.6098 - val_loss: 177.1323 - val_mean_absolute_error: 10.5217 - learning_rate: 1.0000e-04\n",
      "Epoch 14/100\n",
      "\u001b[1m752/752\u001b[0m \u001b[32m━━━━━━━━━━━━━━━━━━━━\u001b[0m\u001b[37m\u001b[0m \u001b[1m6s\u001b[0m 8ms/step - loss: 180.2800 - mean_absolute_error: 10.6111 - val_loss: 177.1487 - val_mean_absolute_error: 10.5189 - learning_rate: 1.0000e-04\n",
      "Epoch 15/100\n",
      "\u001b[1m752/752\u001b[0m \u001b[32m━━━━━━━━━━━━━━━━━━━━\u001b[0m\u001b[37m\u001b[0m \u001b[1m6s\u001b[0m 8ms/step - loss: 179.9137 - mean_absolute_error: 10.5926 - val_loss: 177.2622 - val_mean_absolute_error: 10.5243 - learning_rate: 1.0000e-04\n",
      "Epoch 16/100\n",
      "\u001b[1m752/752\u001b[0m \u001b[32m━━━━━━━━━━━━━━━━━━━━\u001b[0m\u001b[37m\u001b[0m \u001b[1m6s\u001b[0m 8ms/step - loss: 179.5159 - mean_absolute_error: 10.5956 - val_loss: 177.3356 - val_mean_absolute_error: 10.5246 - learning_rate: 1.0000e-04\n",
      "Epoch 17/100\n",
      "\u001b[1m752/752\u001b[0m \u001b[32m━━━━━━━━━━━━━━━━━━━━\u001b[0m\u001b[37m\u001b[0m \u001b[1m6s\u001b[0m 8ms/step - loss: 178.7845 - mean_absolute_error: 10.5651 - val_loss: 177.3093 - val_mean_absolute_error: 10.5263 - learning_rate: 1.0000e-04\n",
      "Epoch 18/100\n",
      "\u001b[1m752/752\u001b[0m \u001b[32m━━━━━━━━━━━━━━━━━━━━\u001b[0m\u001b[37m\u001b[0m \u001b[1m6s\u001b[0m 8ms/step - loss: 178.8427 - mean_absolute_error: 10.5793 - val_loss: 177.5600 - val_mean_absolute_error: 10.5349 - learning_rate: 1.0000e-04\n",
      "Epoch 19/100\n",
      "\u001b[1m752/752\u001b[0m \u001b[32m━━━━━━━━━━━━━━━━━━━━\u001b[0m\u001b[37m\u001b[0m \u001b[1m6s\u001b[0m 8ms/step - loss: 178.4368 - mean_absolute_error: 10.5535 - val_loss: 177.7017 - val_mean_absolute_error: 10.5393 - learning_rate: 1.0000e-04\n",
      "Epoch 20/100\n",
      "\u001b[1m752/752\u001b[0m \u001b[32m━━━━━━━━━━━━━━━━━━━━\u001b[0m\u001b[37m\u001b[0m \u001b[1m6s\u001b[0m 8ms/step - loss: 178.1478 - mean_absolute_error: 10.5519 - val_loss: 177.4101 - val_mean_absolute_error: 10.5303 - learning_rate: 1.0000e-04\n",
      "Epoch 21/100\n",
      "\u001b[1m752/752\u001b[0m \u001b[32m━━━━━━━━━━━━━━━━━━━━\u001b[0m\u001b[37m\u001b[0m \u001b[1m6s\u001b[0m 8ms/step - loss: 178.3146 - mean_absolute_error: 10.5609 - val_loss: 177.5190 - val_mean_absolute_error: 10.5352 - learning_rate: 1.0000e-04\n",
      "Epoch 22/100\n",
      "\u001b[1m752/752\u001b[0m \u001b[32m━━━━━━━━━━━━━━━━━━━━\u001b[0m\u001b[37m\u001b[0m \u001b[1m6s\u001b[0m 8ms/step - loss: 177.7209 - mean_absolute_error: 10.5385 - val_loss: 177.6410 - val_mean_absolute_error: 10.5400 - learning_rate: 1.0000e-04\n",
      "Epoch 23/100\n",
      "\u001b[1m752/752\u001b[0m \u001b[32m━━━━━━━━━━━━━━━━━━━━\u001b[0m\u001b[37m\u001b[0m \u001b[1m6s\u001b[0m 8ms/step - loss: 177.7997 - mean_absolute_error: 10.5393 - val_loss: 177.6260 - val_mean_absolute_error: 10.5383 - learning_rate: 1.0000e-04\n"
     ]
    },
    {
     "data": {
      "text/plain": [
       "<keras.src.callbacks.history.History at 0x1e06a65b1d0>"
      ]
     },
     "execution_count": 22,
     "metadata": {},
     "output_type": "execute_result"
    }
   ],
   "source": [
    "Brackets_model.fit(\n",
    "    [X_train['team_a_encoded'], X_train['team_b_encoded']],\n",
    "    y_train,\n",
    "    epochs=100,\n",
    "    batch_size=64,\n",
    "    validation_split=0.2,\n",
    "    callbacks=[reduce_lr, early_stop]\n",
    ")"
   ]
  },
  {
   "cell_type": "markdown",
   "metadata": {},
   "source": [
    "Model Prediction"
   ]
  },
  {
   "cell_type": "code",
   "execution_count": 23,
   "metadata": {},
   "outputs": [
    {
     "name": "stdout",
     "output_type": "stream",
     "text": [
      "\u001b[1m470/470\u001b[0m \u001b[32m━━━━━━━━━━━━━━━━━━━━\u001b[0m\u001b[37m\u001b[0m \u001b[1m1s\u001b[0m 3ms/step\n"
     ]
    }
   ],
   "source": [
    "prediction = Brackets_model.predict([X_test['team_a_encoded'], X_test['team_b_encoded']])"
   ]
  },
  {
   "cell_type": "code",
   "execution_count": 24,
   "metadata": {},
   "outputs": [
    {
     "name": "stdout",
     "output_type": "stream",
     "text": [
      "Model Accuracy: 65.42%\n"
     ]
    }
   ],
   "source": [
    "#Calculate the model accuracy\n",
    "\n",
    "preds = prediction.reshape(-1).tolist()\n",
    "total_preds = len(prediction)\n",
    "correct_preds = 0\n",
    "\n",
    "y_test_list = y_test.tolist() if isinstance(y_test, np.ndarray) else y_test\n",
    "\n",
    "for y_pred, y_true in zip(preds, y_test_list):\n",
    "    if y_pred > 0 and y_true > 0:\n",
    "        correct_preds += 1\n",
    "    elif y_pred < 0 and y_true < 0:\n",
    "        correct_preds += 1\n",
    "\n",
    "accuracy = correct_preds / total_preds * 100\n",
    "\n",
    "print(f\"Model Accuracy: {accuracy:.2f}%\")"
   ]
  },
  {
   "cell_type": "markdown",
   "metadata": {},
   "source": [
    "Save model"
   ]
  },
  {
   "cell_type": "code",
   "execution_count": 25,
   "metadata": {},
   "outputs": [],
   "source": [
    "Brackets_model.save('Brackets_model.keras')"
   ]
  },
  {
   "cell_type": "markdown",
   "metadata": {},
   "source": [
    "### 2024 Brackets results"
   ]
  },
  {
   "cell_type": "markdown",
   "metadata": {},
   "source": [
    "Now we have trained the model, we can use the trained model to predict the results of the 2024 tournament brackets"
   ]
  },
  {
   "cell_type": "code",
   "execution_count": 18,
   "metadata": {},
   "outputs": [],
   "source": [
    "# load the model\n",
    "\n",
    "Brackets_model = load_model('Brackets_model.keras')"
   ]
  },
  {
   "cell_type": "code",
   "execution_count": 19,
   "metadata": {},
   "outputs": [],
   "source": [
    "teamseeds_2024_df[\"TeamID_encoded\"] = team_encode.transform(teamseeds_2024_df[\"TeamID\"])\n"
   ]
  },
  {
   "cell_type": "code",
   "execution_count": 20,
   "metadata": {},
   "outputs": [
    {
     "data": {
      "text/html": [
       "<div>\n",
       "<style scoped>\n",
       "    .dataframe tbody tr th:only-of-type {\n",
       "        vertical-align: middle;\n",
       "    }\n",
       "\n",
       "    .dataframe tbody tr th {\n",
       "        vertical-align: top;\n",
       "    }\n",
       "\n",
       "    .dataframe thead th {\n",
       "        text-align: right;\n",
       "    }\n",
       "</style>\n",
       "<table border=\"1\" class=\"dataframe\">\n",
       "  <thead>\n",
       "    <tr style=\"text-align: right;\">\n",
       "      <th></th>\n",
       "      <th>Seed</th>\n",
       "      <th>TeamName</th>\n",
       "      <th>TeamID</th>\n",
       "      <th>TeamID_encoded</th>\n",
       "    </tr>\n",
       "  </thead>\n",
       "  <tbody>\n",
       "    <tr>\n",
       "      <th>0</th>\n",
       "      <td>W01</td>\n",
       "      <td>Uconn</td>\n",
       "      <td>1163</td>\n",
       "      <td>62</td>\n",
       "    </tr>\n",
       "    <tr>\n",
       "      <th>1</th>\n",
       "      <td>W02</td>\n",
       "      <td>Iowa State</td>\n",
       "      <td>1235</td>\n",
       "      <td>134</td>\n",
       "    </tr>\n",
       "    <tr>\n",
       "      <th>2</th>\n",
       "      <td>W03</td>\n",
       "      <td>Illinois</td>\n",
       "      <td>1228</td>\n",
       "      <td>127</td>\n",
       "    </tr>\n",
       "    <tr>\n",
       "      <th>3</th>\n",
       "      <td>W04</td>\n",
       "      <td>Auburn</td>\n",
       "      <td>1120</td>\n",
       "      <td>19</td>\n",
       "    </tr>\n",
       "    <tr>\n",
       "      <th>4</th>\n",
       "      <td>W05</td>\n",
       "      <td>San Diego St</td>\n",
       "      <td>1361</td>\n",
       "      <td>260</td>\n",
       "    </tr>\n",
       "    <tr>\n",
       "      <th>...</th>\n",
       "      <td>...</td>\n",
       "      <td>...</td>\n",
       "      <td>...</td>\n",
       "      <td>...</td>\n",
       "    </tr>\n",
       "    <tr>\n",
       "      <th>59</th>\n",
       "      <td>Z12</td>\n",
       "      <td>McNeese</td>\n",
       "      <td>1270</td>\n",
       "      <td>169</td>\n",
       "    </tr>\n",
       "    <tr>\n",
       "      <th>60</th>\n",
       "      <td>Z13</td>\n",
       "      <td>Samford</td>\n",
       "      <td>1359</td>\n",
       "      <td>258</td>\n",
       "    </tr>\n",
       "    <tr>\n",
       "      <th>61</th>\n",
       "      <td>Z14</td>\n",
       "      <td>Akron</td>\n",
       "      <td>1103</td>\n",
       "      <td>2</td>\n",
       "    </tr>\n",
       "    <tr>\n",
       "      <th>62</th>\n",
       "      <td>Z15</td>\n",
       "      <td>Saint Peter's</td>\n",
       "      <td>1389</td>\n",
       "      <td>288</td>\n",
       "    </tr>\n",
       "    <tr>\n",
       "      <th>63</th>\n",
       "      <td>Z16</td>\n",
       "      <td>GRAM</td>\n",
       "      <td>1212</td>\n",
       "      <td>111</td>\n",
       "    </tr>\n",
       "  </tbody>\n",
       "</table>\n",
       "<p>64 rows × 4 columns</p>\n",
       "</div>"
      ],
      "text/plain": [
       "   Seed       TeamName  TeamID  TeamID_encoded\n",
       "0   W01          Uconn    1163              62\n",
       "1   W02     Iowa State    1235             134\n",
       "2   W03       Illinois    1228             127\n",
       "3   W04         Auburn    1120              19\n",
       "4   W05   San Diego St    1361             260\n",
       "..  ...            ...     ...             ...\n",
       "59  Z12        McNeese    1270             169\n",
       "60  Z13        Samford    1359             258\n",
       "61  Z14          Akron    1103               2\n",
       "62  Z15  Saint Peter's    1389             288\n",
       "63  Z16           GRAM    1212             111\n",
       "\n",
       "[64 rows x 4 columns]"
      ]
     },
     "execution_count": 20,
     "metadata": {},
     "output_type": "execute_result"
    }
   ],
   "source": [
    "teamseeds_2024_df"
   ]
  },
  {
   "cell_type": "code",
   "execution_count": 21,
   "metadata": {},
   "outputs": [],
   "source": [
    "# create the match pairs\n",
    "def pair_teams(df,col):\n",
    "    \"\"\"\n",
    "    parameters:\n",
    "    df: dataframe to be encoded\n",
    "    col: column to be used for encoding\n",
    "    \n",
    "    returns:\n",
    "    match_df: encoded dataframe\n",
    "    \n",
    "    \"\"\"\n",
    "    num = len(df)\n",
    "    match_pairs = [(df[col].iloc[i], df[col].iloc[num - 1 - i]) for i in range(num // 2)]\n",
    "    match_df = pd.DataFrame(match_pairs, columns=['TeamA', 'TeamB'])\n",
    "    return match_df\n",
    "\n",
    "def team_pair_names(df):\n",
    "    \"\"\"\n",
    "    parameters:\n",
    "    df: dataframe to get team names\n",
    "    \n",
    "    returns:\n",
    "    df: dataframe with team names\n",
    "    \n",
    "    \"\"\"\n",
    "    df['TeamA_name'] = df.merge(teamseeds_2024_df[['TeamID_encoded', 'TeamName']], left_on='TeamA', right_on='TeamID_encoded', how='left')['TeamName']\n",
    "    df['TeamB_name'] = df.merge(teamseeds_2024_df[['TeamID_encoded', 'TeamName']], left_on='TeamB', right_on='TeamID_encoded', how='left')['TeamName']\n",
    "    return df"
   ]
  },
  {
   "cell_type": "code",
   "execution_count": 22,
   "metadata": {},
   "outputs": [],
   "source": [
    "# Function to determine the winning team based on predictions\n",
    "def determine_winner(row):\n",
    "    \"\"\"\n",
    "    parameters:\n",
    "    row: row of dataframe\n",
    "    \n",
    "    returns:\n",
    "    new_row: new dataframe with filtered data\n",
    "\n",
    "    \"\"\"\n",
    "    if row['predictions'] > 0:\n",
    "        return row['TeamA']\n",
    "    else:\n",
    "        return row['TeamB']\n",
    "\n",
    "def preds(model,df,col1,col2):\n",
    "    \"\"\"\n",
    "    parameters:\n",
    "    model: model to be used\n",
    "    df: dataframe to be predicted\n",
    "    col1: column 1 to be used\n",
    "    col2: column 2 to be used\n",
    "    \n",
    "    returns:\n",
    "    df: predicted dataframe\n",
    "\n",
    "    \"\"\"\n",
    "    prediction = model.predict([df[col1], df[col2]])\n",
    "    prediction = prediction.reshape(-1).tolist()\n",
    "    df['predictions'] = prediction\n",
    "\n",
    "    df['Team_won'] = df.apply(lambda row: int(determine_winner(row)), axis=1)\n",
    "    return df\n",
    "\n",
    "def get_winning_teamname(df):\n",
    "    \"\"\"\n",
    "    parameters:\n",
    "    df: dataframe to get team names\n",
    "    \n",
    "    returns:\n",
    "    df: dataframe with team names\n",
    "    \n",
    "    \"\"\"\n",
    "    df = df.merge(teamseeds_2024_df[['TeamID_encoded', 'TeamName']], left_on='Team_won', right_on='TeamID_encoded', how='left')\n",
    "    df = df.drop(columns=['TeamID_encoded'])\n",
    "    df = df.rename(columns={'TeamName': 'TeamName_won'})\n",
    "    return df"
   ]
  },
  {
   "cell_type": "code",
   "execution_count": 23,
   "metadata": {},
   "outputs": [
    {
     "name": "stderr",
     "output_type": "stream",
     "text": [
      "C:\\Users\\LENOVO\\AppData\\Local\\Temp\\ipykernel_16324\\416674001.py:1: UserWarning: Boolean Series key will be reindexed to match DataFrame index.\n",
      "  W_team_seeds_df = teamseeds_2024_df[teamseeds_df['Seed'].str[0] == 'W']\n",
      "C:\\Users\\LENOVO\\AppData\\Local\\Temp\\ipykernel_16324\\416674001.py:2: UserWarning: Boolean Series key will be reindexed to match DataFrame index.\n",
      "  X_team_seeds_df = teamseeds_2024_df[teamseeds_df['Seed'].str[0] == 'X']\n",
      "C:\\Users\\LENOVO\\AppData\\Local\\Temp\\ipykernel_16324\\416674001.py:3: UserWarning: Boolean Series key will be reindexed to match DataFrame index.\n",
      "  Y_team_seeds_df = teamseeds_2024_df[teamseeds_df['Seed'].str[0] == 'Y']\n",
      "C:\\Users\\LENOVO\\AppData\\Local\\Temp\\ipykernel_16324\\416674001.py:4: UserWarning: Boolean Series key will be reindexed to match DataFrame index.\n",
      "  Z_team_seeds_df = teamseeds_2024_df[teamseeds_df['Seed'].str[0] == 'Z']\n"
     ]
    }
   ],
   "source": [
    "W_team_seeds_df = teamseeds_2024_df[teamseeds_df['Seed'].str[0] == 'W']\n",
    "X_team_seeds_df = teamseeds_2024_df[teamseeds_df['Seed'].str[0] == 'X']\n",
    "Y_team_seeds_df = teamseeds_2024_df[teamseeds_df['Seed'].str[0] == 'Y']\n",
    "Z_team_seeds_df = teamseeds_2024_df[teamseeds_df['Seed'].str[0] == 'Z']"
   ]
  },
  {
   "cell_type": "markdown",
   "metadata": {},
   "source": [
    "### Round of 64"
   ]
  },
  {
   "cell_type": "markdown",
   "metadata": {},
   "source": [
    "East region brackets"
   ]
  },
  {
   "cell_type": "code",
   "execution_count": 24,
   "metadata": {},
   "outputs": [
    {
     "data": {
      "text/html": [
       "<div>\n",
       "<style scoped>\n",
       "    .dataframe tbody tr th:only-of-type {\n",
       "        vertical-align: middle;\n",
       "    }\n",
       "\n",
       "    .dataframe tbody tr th {\n",
       "        vertical-align: top;\n",
       "    }\n",
       "\n",
       "    .dataframe thead th {\n",
       "        text-align: right;\n",
       "    }\n",
       "</style>\n",
       "<table border=\"1\" class=\"dataframe\">\n",
       "  <thead>\n",
       "    <tr style=\"text-align: right;\">\n",
       "      <th></th>\n",
       "      <th>TeamA</th>\n",
       "      <th>TeamB</th>\n",
       "      <th>TeamA_name</th>\n",
       "      <th>TeamB_name</th>\n",
       "    </tr>\n",
       "  </thead>\n",
       "  <tbody>\n",
       "    <tr>\n",
       "      <th>0</th>\n",
       "      <td>62</td>\n",
       "      <td>290</td>\n",
       "      <td>Uconn</td>\n",
       "      <td>Stetson</td>\n",
       "    </tr>\n",
       "    <tr>\n",
       "      <th>1</th>\n",
       "      <td>134</td>\n",
       "      <td>254</td>\n",
       "      <td>Iowa State</td>\n",
       "      <td>S Dakota St</td>\n",
       "    </tr>\n",
       "    <tr>\n",
       "      <th>2</th>\n",
       "      <td>127</td>\n",
       "      <td>186</td>\n",
       "      <td>Illinois</td>\n",
       "      <td>Morehead St</td>\n",
       "    </tr>\n",
       "    <tr>\n",
       "      <th>3</th>\n",
       "      <td>19</td>\n",
       "      <td>362</td>\n",
       "      <td>Auburn</td>\n",
       "      <td>Yale</td>\n",
       "    </tr>\n",
       "    <tr>\n",
       "      <th>4</th>\n",
       "      <td>260</td>\n",
       "      <td>311</td>\n",
       "      <td>San Diego St</td>\n",
       "      <td>UAB</td>\n",
       "    </tr>\n",
       "    <tr>\n",
       "      <th>5</th>\n",
       "      <td>39</td>\n",
       "      <td>81</td>\n",
       "      <td>BYU</td>\n",
       "      <td>Duquesne</td>\n",
       "    </tr>\n",
       "    <tr>\n",
       "      <th>6</th>\n",
       "      <td>349</td>\n",
       "      <td>78</td>\n",
       "      <td>Washington St</td>\n",
       "      <td>Drake</td>\n",
       "    </tr>\n",
       "    <tr>\n",
       "      <th>7</th>\n",
       "      <td>93</td>\n",
       "      <td>220</td>\n",
       "      <td>FAU</td>\n",
       "      <td>Northwestern</td>\n",
       "    </tr>\n",
       "  </tbody>\n",
       "</table>\n",
       "</div>"
      ],
      "text/plain": [
       "   TeamA  TeamB     TeamA_name    TeamB_name\n",
       "0     62    290          Uconn       Stetson\n",
       "1    134    254     Iowa State   S Dakota St\n",
       "2    127    186       Illinois   Morehead St\n",
       "3     19    362         Auburn          Yale\n",
       "4    260    311   San Diego St           UAB\n",
       "5     39     81            BYU      Duquesne\n",
       "6    349     78  Washington St         Drake\n",
       "7     93    220            FAU  Northwestern"
      ]
     },
     "execution_count": 24,
     "metadata": {},
     "output_type": "execute_result"
    }
   ],
   "source": [
    "W01_pairs_df = pair_teams(W_team_seeds_df, 'TeamID_encoded')\n",
    "W01_pairs_df = team_pair_names(W01_pairs_df)\n",
    "W01_pairs_df"
   ]
  },
  {
   "cell_type": "code",
   "execution_count": 25,
   "metadata": {},
   "outputs": [
    {
     "name": "stdout",
     "output_type": "stream",
     "text": [
      "\u001b[1m1/1\u001b[0m \u001b[32m━━━━━━━━━━━━━━━━━━━━\u001b[0m\u001b[37m\u001b[0m \u001b[1m0s\u001b[0m 312ms/step\n"
     ]
    },
    {
     "data": {
      "text/html": [
       "<div>\n",
       "<style scoped>\n",
       "    .dataframe tbody tr th:only-of-type {\n",
       "        vertical-align: middle;\n",
       "    }\n",
       "\n",
       "    .dataframe tbody tr th {\n",
       "        vertical-align: top;\n",
       "    }\n",
       "\n",
       "    .dataframe thead th {\n",
       "        text-align: right;\n",
       "    }\n",
       "</style>\n",
       "<table border=\"1\" class=\"dataframe\">\n",
       "  <thead>\n",
       "    <tr style=\"text-align: right;\">\n",
       "      <th></th>\n",
       "      <th>TeamA</th>\n",
       "      <th>TeamB</th>\n",
       "      <th>TeamA_name</th>\n",
       "      <th>TeamB_name</th>\n",
       "      <th>predictions</th>\n",
       "      <th>Team_won</th>\n",
       "      <th>TeamName_won</th>\n",
       "    </tr>\n",
       "  </thead>\n",
       "  <tbody>\n",
       "    <tr>\n",
       "      <th>0</th>\n",
       "      <td>62</td>\n",
       "      <td>290</td>\n",
       "      <td>Uconn</td>\n",
       "      <td>Stetson</td>\n",
       "      <td>20.562836</td>\n",
       "      <td>62</td>\n",
       "      <td>Uconn</td>\n",
       "    </tr>\n",
       "    <tr>\n",
       "      <th>1</th>\n",
       "      <td>134</td>\n",
       "      <td>254</td>\n",
       "      <td>Iowa State</td>\n",
       "      <td>S Dakota St</td>\n",
       "      <td>11.244709</td>\n",
       "      <td>134</td>\n",
       "      <td>Iowa State</td>\n",
       "    </tr>\n",
       "    <tr>\n",
       "      <th>2</th>\n",
       "      <td>127</td>\n",
       "      <td>186</td>\n",
       "      <td>Illinois</td>\n",
       "      <td>Morehead St</td>\n",
       "      <td>22.994284</td>\n",
       "      <td>127</td>\n",
       "      <td>Illinois</td>\n",
       "    </tr>\n",
       "    <tr>\n",
       "      <th>3</th>\n",
       "      <td>19</td>\n",
       "      <td>362</td>\n",
       "      <td>Auburn</td>\n",
       "      <td>Yale</td>\n",
       "      <td>10.990559</td>\n",
       "      <td>19</td>\n",
       "      <td>Auburn</td>\n",
       "    </tr>\n",
       "    <tr>\n",
       "      <th>4</th>\n",
       "      <td>260</td>\n",
       "      <td>311</td>\n",
       "      <td>San Diego St</td>\n",
       "      <td>UAB</td>\n",
       "      <td>-1.127488</td>\n",
       "      <td>311</td>\n",
       "      <td>UAB</td>\n",
       "    </tr>\n",
       "    <tr>\n",
       "      <th>5</th>\n",
       "      <td>39</td>\n",
       "      <td>81</td>\n",
       "      <td>BYU</td>\n",
       "      <td>Duquesne</td>\n",
       "      <td>8.951199</td>\n",
       "      <td>39</td>\n",
       "      <td>BYU</td>\n",
       "    </tr>\n",
       "    <tr>\n",
       "      <th>6</th>\n",
       "      <td>349</td>\n",
       "      <td>78</td>\n",
       "      <td>Washington St</td>\n",
       "      <td>Drake</td>\n",
       "      <td>5.258483</td>\n",
       "      <td>349</td>\n",
       "      <td>Washington St</td>\n",
       "    </tr>\n",
       "    <tr>\n",
       "      <th>7</th>\n",
       "      <td>93</td>\n",
       "      <td>220</td>\n",
       "      <td>FAU</td>\n",
       "      <td>Northwestern</td>\n",
       "      <td>-12.080555</td>\n",
       "      <td>220</td>\n",
       "      <td>Northwestern</td>\n",
       "    </tr>\n",
       "  </tbody>\n",
       "</table>\n",
       "</div>"
      ],
      "text/plain": [
       "   TeamA  TeamB     TeamA_name    TeamB_name  predictions  Team_won  \\\n",
       "0     62    290          Uconn       Stetson    20.562836        62   \n",
       "1    134    254     Iowa State   S Dakota St    11.244709       134   \n",
       "2    127    186       Illinois   Morehead St    22.994284       127   \n",
       "3     19    362         Auburn          Yale    10.990559        19   \n",
       "4    260    311   San Diego St           UAB    -1.127488       311   \n",
       "5     39     81            BYU      Duquesne     8.951199        39   \n",
       "6    349     78  Washington St         Drake     5.258483       349   \n",
       "7     93    220            FAU  Northwestern   -12.080555       220   \n",
       "\n",
       "    TeamName_won  \n",
       "0          Uconn  \n",
       "1     Iowa State  \n",
       "2       Illinois  \n",
       "3         Auburn  \n",
       "4            UAB  \n",
       "5            BYU  \n",
       "6  Washington St  \n",
       "7   Northwestern  "
      ]
     },
     "execution_count": 25,
     "metadata": {},
     "output_type": "execute_result"
    }
   ],
   "source": [
    "W_1st_round_df = preds(Brackets_model,W01_pairs_df,'TeamA','TeamB')\n",
    "W_1st_round_df=get_winning_teamname(W_1st_round_df)\n",
    "W_1st_round_df"
   ]
  },
  {
   "cell_type": "markdown",
   "metadata": {},
   "source": [
    "West region brackets"
   ]
  },
  {
   "cell_type": "code",
   "execution_count": 26,
   "metadata": {},
   "outputs": [
    {
     "data": {
      "text/html": [
       "<div>\n",
       "<style scoped>\n",
       "    .dataframe tbody tr th:only-of-type {\n",
       "        vertical-align: middle;\n",
       "    }\n",
       "\n",
       "    .dataframe tbody tr th {\n",
       "        vertical-align: top;\n",
       "    }\n",
       "\n",
       "    .dataframe thead th {\n",
       "        text-align: right;\n",
       "    }\n",
       "</style>\n",
       "<table border=\"1\" class=\"dataframe\">\n",
       "  <thead>\n",
       "    <tr style=\"text-align: right;\">\n",
       "      <th></th>\n",
       "      <th>TeamA</th>\n",
       "      <th>TeamB</th>\n",
       "      <th>TeamA_name</th>\n",
       "      <th>TeamB_name</th>\n",
       "    </tr>\n",
       "  </thead>\n",
       "  <tbody>\n",
       "    <tr>\n",
       "      <th>0</th>\n",
       "      <td>213</td>\n",
       "      <td>346</td>\n",
       "      <td>North Carolina</td>\n",
       "      <td>WAG</td>\n",
       "    </tr>\n",
       "    <tr>\n",
       "      <th>1</th>\n",
       "      <td>11</td>\n",
       "      <td>152</td>\n",
       "      <td>Arizona</td>\n",
       "      <td>Long Beach St</td>\n",
       "    </tr>\n",
       "    <tr>\n",
       "      <th>2</th>\n",
       "      <td>23</td>\n",
       "      <td>58</td>\n",
       "      <td>Baylor</td>\n",
       "      <td>Colgate</td>\n",
       "    </tr>\n",
       "    <tr>\n",
       "      <th>3</th>\n",
       "      <td>3</td>\n",
       "      <td>48</td>\n",
       "      <td>Alabama</td>\n",
       "      <td>Charleston</td>\n",
       "    </tr>\n",
       "    <tr>\n",
       "      <th>4</th>\n",
       "      <td>287</td>\n",
       "      <td>112</td>\n",
       "      <td>Saint Mary's</td>\n",
       "      <td>Grand Canyon</td>\n",
       "    </tr>\n",
       "    <tr>\n",
       "      <th>5</th>\n",
       "      <td>54</td>\n",
       "      <td>206</td>\n",
       "      <td>Clemson</td>\n",
       "      <td>New Mexico</td>\n",
       "    </tr>\n",
       "    <tr>\n",
       "      <th>6</th>\n",
       "      <td>72</td>\n",
       "      <td>204</td>\n",
       "      <td>Dayton</td>\n",
       "      <td>Nevada</td>\n",
       "    </tr>\n",
       "    <tr>\n",
       "      <th>7</th>\n",
       "      <td>179</td>\n",
       "      <td>176</td>\n",
       "      <td>Mississippi St</td>\n",
       "      <td>Michigan St</td>\n",
       "    </tr>\n",
       "  </tbody>\n",
       "</table>\n",
       "</div>"
      ],
      "text/plain": [
       "   TeamA  TeamB      TeamA_name     TeamB_name\n",
       "0    213    346  North Carolina            WAG\n",
       "1     11    152         Arizona  Long Beach St\n",
       "2     23     58          Baylor        Colgate\n",
       "3      3     48         Alabama     Charleston\n",
       "4    287    112    Saint Mary's   Grand Canyon\n",
       "5     54    206         Clemson     New Mexico\n",
       "6     72    204          Dayton         Nevada\n",
       "7    179    176  Mississippi St    Michigan St"
      ]
     },
     "execution_count": 26,
     "metadata": {},
     "output_type": "execute_result"
    }
   ],
   "source": [
    "X01_pairs_df = pair_teams(X_team_seeds_df,'TeamID_encoded')\n",
    "X01_pairs_df = team_pair_names(X01_pairs_df)\n",
    "X01_pairs_df"
   ]
  },
  {
   "cell_type": "code",
   "execution_count": 27,
   "metadata": {},
   "outputs": [
    {
     "name": "stdout",
     "output_type": "stream",
     "text": [
      "\u001b[1m1/1\u001b[0m \u001b[32m━━━━━━━━━━━━━━━━━━━━\u001b[0m\u001b[37m\u001b[0m \u001b[1m0s\u001b[0m 23ms/step\n"
     ]
    },
    {
     "data": {
      "text/html": [
       "<div>\n",
       "<style scoped>\n",
       "    .dataframe tbody tr th:only-of-type {\n",
       "        vertical-align: middle;\n",
       "    }\n",
       "\n",
       "    .dataframe tbody tr th {\n",
       "        vertical-align: top;\n",
       "    }\n",
       "\n",
       "    .dataframe thead th {\n",
       "        text-align: right;\n",
       "    }\n",
       "</style>\n",
       "<table border=\"1\" class=\"dataframe\">\n",
       "  <thead>\n",
       "    <tr style=\"text-align: right;\">\n",
       "      <th></th>\n",
       "      <th>TeamA</th>\n",
       "      <th>TeamB</th>\n",
       "      <th>TeamA_name</th>\n",
       "      <th>TeamB_name</th>\n",
       "      <th>predictions</th>\n",
       "      <th>Team_won</th>\n",
       "      <th>TeamName_won</th>\n",
       "    </tr>\n",
       "  </thead>\n",
       "  <tbody>\n",
       "    <tr>\n",
       "      <th>0</th>\n",
       "      <td>213</td>\n",
       "      <td>346</td>\n",
       "      <td>North Carolina</td>\n",
       "      <td>WAG</td>\n",
       "      <td>30.163134</td>\n",
       "      <td>213</td>\n",
       "      <td>North Carolina</td>\n",
       "    </tr>\n",
       "    <tr>\n",
       "      <th>1</th>\n",
       "      <td>11</td>\n",
       "      <td>152</td>\n",
       "      <td>Arizona</td>\n",
       "      <td>Long Beach St</td>\n",
       "      <td>18.349806</td>\n",
       "      <td>11</td>\n",
       "      <td>Arizona</td>\n",
       "    </tr>\n",
       "    <tr>\n",
       "      <th>2</th>\n",
       "      <td>23</td>\n",
       "      <td>58</td>\n",
       "      <td>Baylor</td>\n",
       "      <td>Colgate</td>\n",
       "      <td>14.477116</td>\n",
       "      <td>23</td>\n",
       "      <td>Baylor</td>\n",
       "    </tr>\n",
       "    <tr>\n",
       "      <th>3</th>\n",
       "      <td>3</td>\n",
       "      <td>48</td>\n",
       "      <td>Alabama</td>\n",
       "      <td>Charleston</td>\n",
       "      <td>20.968664</td>\n",
       "      <td>3</td>\n",
       "      <td>Alabama</td>\n",
       "    </tr>\n",
       "    <tr>\n",
       "      <th>4</th>\n",
       "      <td>287</td>\n",
       "      <td>112</td>\n",
       "      <td>Saint Mary's</td>\n",
       "      <td>Grand Canyon</td>\n",
       "      <td>5.854482</td>\n",
       "      <td>287</td>\n",
       "      <td>Saint Mary's</td>\n",
       "    </tr>\n",
       "    <tr>\n",
       "      <th>5</th>\n",
       "      <td>54</td>\n",
       "      <td>206</td>\n",
       "      <td>Clemson</td>\n",
       "      <td>New Mexico</td>\n",
       "      <td>4.607848</td>\n",
       "      <td>54</td>\n",
       "      <td>Clemson</td>\n",
       "    </tr>\n",
       "    <tr>\n",
       "      <th>6</th>\n",
       "      <td>72</td>\n",
       "      <td>204</td>\n",
       "      <td>Dayton</td>\n",
       "      <td>Nevada</td>\n",
       "      <td>1.666485</td>\n",
       "      <td>72</td>\n",
       "      <td>Dayton</td>\n",
       "    </tr>\n",
       "    <tr>\n",
       "      <th>7</th>\n",
       "      <td>179</td>\n",
       "      <td>176</td>\n",
       "      <td>Mississippi St</td>\n",
       "      <td>Michigan St</td>\n",
       "      <td>-5.063118</td>\n",
       "      <td>176</td>\n",
       "      <td>Michigan St</td>\n",
       "    </tr>\n",
       "  </tbody>\n",
       "</table>\n",
       "</div>"
      ],
      "text/plain": [
       "   TeamA  TeamB      TeamA_name     TeamB_name  predictions  Team_won  \\\n",
       "0    213    346  North Carolina            WAG    30.163134       213   \n",
       "1     11    152         Arizona  Long Beach St    18.349806        11   \n",
       "2     23     58          Baylor        Colgate    14.477116        23   \n",
       "3      3     48         Alabama     Charleston    20.968664         3   \n",
       "4    287    112    Saint Mary's   Grand Canyon     5.854482       287   \n",
       "5     54    206         Clemson     New Mexico     4.607848        54   \n",
       "6     72    204          Dayton         Nevada     1.666485        72   \n",
       "7    179    176  Mississippi St    Michigan St    -5.063118       176   \n",
       "\n",
       "     TeamName_won  \n",
       "0  North Carolina  \n",
       "1         Arizona  \n",
       "2          Baylor  \n",
       "3         Alabama  \n",
       "4    Saint Mary's  \n",
       "5         Clemson  \n",
       "6          Dayton  \n",
       "7     Michigan St  "
      ]
     },
     "execution_count": 27,
     "metadata": {},
     "output_type": "execute_result"
    }
   ],
   "source": [
    "X_1st_round_df = preds(Brackets_model,X01_pairs_df,'TeamA','TeamB')\n",
    "X_1st_round_df = get_winning_teamname(X_1st_round_df)\n",
    "X_1st_round_df"
   ]
  },
  {
   "cell_type": "markdown",
   "metadata": {},
   "source": [
    "South region brackets"
   ]
  },
  {
   "cell_type": "code",
   "execution_count": 28,
   "metadata": {},
   "outputs": [
    {
     "data": {
      "text/html": [
       "<div>\n",
       "<style scoped>\n",
       "    .dataframe tbody tr th:only-of-type {\n",
       "        vertical-align: middle;\n",
       "    }\n",
       "\n",
       "    .dataframe tbody tr th {\n",
       "        vertical-align: top;\n",
       "    }\n",
       "\n",
       "    .dataframe thead th {\n",
       "        text-align: right;\n",
       "    }\n",
       "</style>\n",
       "<table border=\"1\" class=\"dataframe\">\n",
       "  <thead>\n",
       "    <tr style=\"text-align: right;\">\n",
       "      <th></th>\n",
       "      <th>TeamA</th>\n",
       "      <th>TeamB</th>\n",
       "      <th>TeamA_name</th>\n",
       "      <th>TeamB_name</th>\n",
       "    </tr>\n",
       "  </thead>\n",
       "  <tbody>\n",
       "    <tr>\n",
       "      <th>0</th>\n",
       "      <td>121</td>\n",
       "      <td>154</td>\n",
       "      <td>Houston</td>\n",
       "      <td>Longwood</td>\n",
       "    </tr>\n",
       "    <tr>\n",
       "      <th>1</th>\n",
       "      <td>165</td>\n",
       "      <td>342</td>\n",
       "      <td>Marquette</td>\n",
       "      <td>Western KY</td>\n",
       "    </tr>\n",
       "    <tr>\n",
       "      <th>2</th>\n",
       "      <td>145</td>\n",
       "      <td>223</td>\n",
       "      <td>Kentucky</td>\n",
       "      <td>Oakland</td>\n",
       "    </tr>\n",
       "    <tr>\n",
       "      <th>3</th>\n",
       "      <td>80</td>\n",
       "      <td>335</td>\n",
       "      <td>Duke</td>\n",
       "      <td>Vermont</td>\n",
       "    </tr>\n",
       "    <tr>\n",
       "      <th>4</th>\n",
       "      <td>357</td>\n",
       "      <td>140</td>\n",
       "      <td>Wisconsin</td>\n",
       "      <td>James Madison</td>\n",
       "    </tr>\n",
       "    <tr>\n",
       "      <th>5</th>\n",
       "      <td>302</td>\n",
       "      <td>200</td>\n",
       "      <td>Texas Tech</td>\n",
       "      <td>NC State</td>\n",
       "    </tr>\n",
       "    <tr>\n",
       "      <th>6</th>\n",
       "      <td>95</td>\n",
       "      <td>59</td>\n",
       "      <td>Florida</td>\n",
       "      <td>COL</td>\n",
       "    </tr>\n",
       "    <tr>\n",
       "      <th>7</th>\n",
       "      <td>203</td>\n",
       "      <td>300</td>\n",
       "      <td>Nebraska</td>\n",
       "      <td>Texas A&amp;M</td>\n",
       "    </tr>\n",
       "  </tbody>\n",
       "</table>\n",
       "</div>"
      ],
      "text/plain": [
       "   TeamA  TeamB  TeamA_name     TeamB_name\n",
       "0    121    154     Houston       Longwood\n",
       "1    165    342   Marquette     Western KY\n",
       "2    145    223    Kentucky        Oakland\n",
       "3     80    335        Duke        Vermont\n",
       "4    357    140   Wisconsin  James Madison\n",
       "5    302    200  Texas Tech       NC State\n",
       "6     95     59     Florida            COL\n",
       "7    203    300    Nebraska      Texas A&M"
      ]
     },
     "execution_count": 28,
     "metadata": {},
     "output_type": "execute_result"
    }
   ],
   "source": [
    "Y01_pairs_df = pair_teams(Y_team_seeds_df, 'TeamID_encoded')\n",
    "Y01_pairs_df = team_pair_names(Y01_pairs_df)\n",
    "Y01_pairs_df"
   ]
  },
  {
   "cell_type": "code",
   "execution_count": 29,
   "metadata": {},
   "outputs": [
    {
     "name": "stdout",
     "output_type": "stream",
     "text": [
      "\u001b[1m1/1\u001b[0m \u001b[32m━━━━━━━━━━━━━━━━━━━━\u001b[0m\u001b[37m\u001b[0m \u001b[1m0s\u001b[0m 24ms/step\n"
     ]
    },
    {
     "data": {
      "text/html": [
       "<div>\n",
       "<style scoped>\n",
       "    .dataframe tbody tr th:only-of-type {\n",
       "        vertical-align: middle;\n",
       "    }\n",
       "\n",
       "    .dataframe tbody tr th {\n",
       "        vertical-align: top;\n",
       "    }\n",
       "\n",
       "    .dataframe thead th {\n",
       "        text-align: right;\n",
       "    }\n",
       "</style>\n",
       "<table border=\"1\" class=\"dataframe\">\n",
       "  <thead>\n",
       "    <tr style=\"text-align: right;\">\n",
       "      <th></th>\n",
       "      <th>TeamA</th>\n",
       "      <th>TeamB</th>\n",
       "      <th>TeamA_name</th>\n",
       "      <th>TeamB_name</th>\n",
       "      <th>predictions</th>\n",
       "      <th>Team_won</th>\n",
       "      <th>TeamName_won</th>\n",
       "    </tr>\n",
       "  </thead>\n",
       "  <tbody>\n",
       "    <tr>\n",
       "      <th>0</th>\n",
       "      <td>121</td>\n",
       "      <td>154</td>\n",
       "      <td>Houston</td>\n",
       "      <td>Longwood</td>\n",
       "      <td>22.048330</td>\n",
       "      <td>121</td>\n",
       "      <td>Houston</td>\n",
       "    </tr>\n",
       "    <tr>\n",
       "      <th>1</th>\n",
       "      <td>165</td>\n",
       "      <td>342</td>\n",
       "      <td>Marquette</td>\n",
       "      <td>Western KY</td>\n",
       "      <td>5.622268</td>\n",
       "      <td>165</td>\n",
       "      <td>Marquette</td>\n",
       "    </tr>\n",
       "    <tr>\n",
       "      <th>2</th>\n",
       "      <td>145</td>\n",
       "      <td>223</td>\n",
       "      <td>Kentucky</td>\n",
       "      <td>Oakland</td>\n",
       "      <td>18.993193</td>\n",
       "      <td>145</td>\n",
       "      <td>Kentucky</td>\n",
       "    </tr>\n",
       "    <tr>\n",
       "      <th>3</th>\n",
       "      <td>80</td>\n",
       "      <td>335</td>\n",
       "      <td>Duke</td>\n",
       "      <td>Vermont</td>\n",
       "      <td>28.799570</td>\n",
       "      <td>80</td>\n",
       "      <td>Duke</td>\n",
       "    </tr>\n",
       "    <tr>\n",
       "      <th>4</th>\n",
       "      <td>357</td>\n",
       "      <td>140</td>\n",
       "      <td>Wisconsin</td>\n",
       "      <td>James Madison</td>\n",
       "      <td>13.066276</td>\n",
       "      <td>357</td>\n",
       "      <td>Wisconsin</td>\n",
       "    </tr>\n",
       "    <tr>\n",
       "      <th>5</th>\n",
       "      <td>302</td>\n",
       "      <td>200</td>\n",
       "      <td>Texas Tech</td>\n",
       "      <td>NC State</td>\n",
       "      <td>-2.259185</td>\n",
       "      <td>200</td>\n",
       "      <td>NC State</td>\n",
       "    </tr>\n",
       "    <tr>\n",
       "      <th>6</th>\n",
       "      <td>95</td>\n",
       "      <td>59</td>\n",
       "      <td>Florida</td>\n",
       "      <td>COL</td>\n",
       "      <td>8.380654</td>\n",
       "      <td>95</td>\n",
       "      <td>Florida</td>\n",
       "    </tr>\n",
       "    <tr>\n",
       "      <th>7</th>\n",
       "      <td>203</td>\n",
       "      <td>300</td>\n",
       "      <td>Nebraska</td>\n",
       "      <td>Texas A&amp;M</td>\n",
       "      <td>0.001762</td>\n",
       "      <td>203</td>\n",
       "      <td>Nebraska</td>\n",
       "    </tr>\n",
       "  </tbody>\n",
       "</table>\n",
       "</div>"
      ],
      "text/plain": [
       "   TeamA  TeamB  TeamA_name     TeamB_name  predictions  Team_won TeamName_won\n",
       "0    121    154     Houston       Longwood    22.048330       121      Houston\n",
       "1    165    342   Marquette     Western KY     5.622268       165    Marquette\n",
       "2    145    223    Kentucky        Oakland    18.993193       145     Kentucky\n",
       "3     80    335        Duke        Vermont    28.799570        80         Duke\n",
       "4    357    140   Wisconsin  James Madison    13.066276       357    Wisconsin\n",
       "5    302    200  Texas Tech       NC State    -2.259185       200     NC State\n",
       "6     95     59     Florida            COL     8.380654        95      Florida\n",
       "7    203    300    Nebraska      Texas A&M     0.001762       203     Nebraska"
      ]
     },
     "execution_count": 29,
     "metadata": {},
     "output_type": "execute_result"
    }
   ],
   "source": [
    "Y_1st_round_df = preds(Brackets_model,Y01_pairs_df,'TeamA','TeamB')\n",
    "Y_1st_round_df = get_winning_teamname(Y_1st_round_df)\n",
    "Y_1st_round_df"
   ]
  },
  {
   "cell_type": "markdown",
   "metadata": {},
   "source": [
    "Midwest region brackets"
   ]
  },
  {
   "cell_type": "code",
   "execution_count": 30,
   "metadata": {},
   "outputs": [
    {
     "data": {
      "text/html": [
       "<div>\n",
       "<style scoped>\n",
       "    .dataframe tbody tr th:only-of-type {\n",
       "        vertical-align: middle;\n",
       "    }\n",
       "\n",
       "    .dataframe tbody tr th {\n",
       "        vertical-align: top;\n",
       "    }\n",
       "\n",
       "    .dataframe thead th {\n",
       "        text-align: right;\n",
       "    }\n",
       "</style>\n",
       "<table border=\"1\" class=\"dataframe\">\n",
       "  <thead>\n",
       "    <tr style=\"text-align: right;\">\n",
       "      <th></th>\n",
       "      <th>TeamA</th>\n",
       "      <th>TeamB</th>\n",
       "      <th>TeamA_name</th>\n",
       "      <th>TeamB_name</th>\n",
       "    </tr>\n",
       "  </thead>\n",
       "  <tbody>\n",
       "    <tr>\n",
       "      <th>0</th>\n",
       "      <td>244</td>\n",
       "      <td>111</td>\n",
       "      <td>Purdue</td>\n",
       "      <td>GRAM</td>\n",
       "    </tr>\n",
       "    <tr>\n",
       "      <th>1</th>\n",
       "      <td>296</td>\n",
       "      <td>288</td>\n",
       "      <td>Tennessee</td>\n",
       "      <td>Saint Peter's</td>\n",
       "    </tr>\n",
       "    <tr>\n",
       "      <th>2</th>\n",
       "      <td>65</td>\n",
       "      <td>2</td>\n",
       "      <td>Creighton</td>\n",
       "      <td>Akron</td>\n",
       "    </tr>\n",
       "    <tr>\n",
       "      <th>3</th>\n",
       "      <td>141</td>\n",
       "      <td>258</td>\n",
       "      <td>Kansas</td>\n",
       "      <td>Samford</td>\n",
       "    </tr>\n",
       "    <tr>\n",
       "      <th>4</th>\n",
       "      <td>110</td>\n",
       "      <td>169</td>\n",
       "      <td>Gonzaga</td>\n",
       "      <td>McNeese</td>\n",
       "    </tr>\n",
       "    <tr>\n",
       "      <th>5</th>\n",
       "      <td>275</td>\n",
       "      <td>231</td>\n",
       "      <td>South Carolina</td>\n",
       "      <td>Oregon</td>\n",
       "    </tr>\n",
       "    <tr>\n",
       "      <th>6</th>\n",
       "      <td>299</td>\n",
       "      <td>60</td>\n",
       "      <td>Texas</td>\n",
       "      <td>CSU</td>\n",
       "    </tr>\n",
       "    <tr>\n",
       "      <th>7</th>\n",
       "      <td>328</td>\n",
       "      <td>294</td>\n",
       "      <td>Utah State</td>\n",
       "      <td>TCU</td>\n",
       "    </tr>\n",
       "  </tbody>\n",
       "</table>\n",
       "</div>"
      ],
      "text/plain": [
       "   TeamA  TeamB      TeamA_name     TeamB_name\n",
       "0    244    111          Purdue           GRAM\n",
       "1    296    288       Tennessee  Saint Peter's\n",
       "2     65      2       Creighton          Akron\n",
       "3    141    258          Kansas        Samford\n",
       "4    110    169         Gonzaga        McNeese\n",
       "5    275    231  South Carolina         Oregon\n",
       "6    299     60           Texas            CSU\n",
       "7    328    294      Utah State            TCU"
      ]
     },
     "execution_count": 30,
     "metadata": {},
     "output_type": "execute_result"
    }
   ],
   "source": [
    "Z01_pairs_df = pair_teams(Z_team_seeds_df, 'TeamID_encoded')\n",
    "Z01_pairs_df = team_pair_names(Z01_pairs_df)\n",
    "Z01_pairs_df"
   ]
  },
  {
   "cell_type": "code",
   "execution_count": 31,
   "metadata": {},
   "outputs": [
    {
     "name": "stdout",
     "output_type": "stream",
     "text": [
      "\u001b[1m1/1\u001b[0m \u001b[32m━━━━━━━━━━━━━━━━━━━━\u001b[0m\u001b[37m\u001b[0m \u001b[1m0s\u001b[0m 24ms/step\n"
     ]
    },
    {
     "data": {
      "text/html": [
       "<div>\n",
       "<style scoped>\n",
       "    .dataframe tbody tr th:only-of-type {\n",
       "        vertical-align: middle;\n",
       "    }\n",
       "\n",
       "    .dataframe tbody tr th {\n",
       "        vertical-align: top;\n",
       "    }\n",
       "\n",
       "    .dataframe thead th {\n",
       "        text-align: right;\n",
       "    }\n",
       "</style>\n",
       "<table border=\"1\" class=\"dataframe\">\n",
       "  <thead>\n",
       "    <tr style=\"text-align: right;\">\n",
       "      <th></th>\n",
       "      <th>TeamA</th>\n",
       "      <th>TeamB</th>\n",
       "      <th>TeamA_name</th>\n",
       "      <th>TeamB_name</th>\n",
       "      <th>predictions</th>\n",
       "      <th>Team_won</th>\n",
       "      <th>TeamName_won</th>\n",
       "    </tr>\n",
       "  </thead>\n",
       "  <tbody>\n",
       "    <tr>\n",
       "      <th>0</th>\n",
       "      <td>244</td>\n",
       "      <td>111</td>\n",
       "      <td>Purdue</td>\n",
       "      <td>GRAM</td>\n",
       "      <td>37.093803</td>\n",
       "      <td>244</td>\n",
       "      <td>Purdue</td>\n",
       "    </tr>\n",
       "    <tr>\n",
       "      <th>1</th>\n",
       "      <td>296</td>\n",
       "      <td>288</td>\n",
       "      <td>Tennessee</td>\n",
       "      <td>Saint Peter's</td>\n",
       "      <td>12.814701</td>\n",
       "      <td>296</td>\n",
       "      <td>Tennessee</td>\n",
       "    </tr>\n",
       "    <tr>\n",
       "      <th>2</th>\n",
       "      <td>65</td>\n",
       "      <td>2</td>\n",
       "      <td>Creighton</td>\n",
       "      <td>Akron</td>\n",
       "      <td>3.088022</td>\n",
       "      <td>65</td>\n",
       "      <td>Creighton</td>\n",
       "    </tr>\n",
       "    <tr>\n",
       "      <th>3</th>\n",
       "      <td>141</td>\n",
       "      <td>258</td>\n",
       "      <td>Kansas</td>\n",
       "      <td>Samford</td>\n",
       "      <td>28.709730</td>\n",
       "      <td>141</td>\n",
       "      <td>Kansas</td>\n",
       "    </tr>\n",
       "    <tr>\n",
       "      <th>4</th>\n",
       "      <td>110</td>\n",
       "      <td>169</td>\n",
       "      <td>Gonzaga</td>\n",
       "      <td>McNeese</td>\n",
       "      <td>21.977791</td>\n",
       "      <td>110</td>\n",
       "      <td>Gonzaga</td>\n",
       "    </tr>\n",
       "    <tr>\n",
       "      <th>5</th>\n",
       "      <td>275</td>\n",
       "      <td>231</td>\n",
       "      <td>South Carolina</td>\n",
       "      <td>Oregon</td>\n",
       "      <td>-1.936162</td>\n",
       "      <td>231</td>\n",
       "      <td>Oregon</td>\n",
       "    </tr>\n",
       "    <tr>\n",
       "      <th>6</th>\n",
       "      <td>299</td>\n",
       "      <td>60</td>\n",
       "      <td>Texas</td>\n",
       "      <td>CSU</td>\n",
       "      <td>9.919846</td>\n",
       "      <td>299</td>\n",
       "      <td>Texas</td>\n",
       "    </tr>\n",
       "    <tr>\n",
       "      <th>7</th>\n",
       "      <td>328</td>\n",
       "      <td>294</td>\n",
       "      <td>Utah State</td>\n",
       "      <td>TCU</td>\n",
       "      <td>-0.216908</td>\n",
       "      <td>294</td>\n",
       "      <td>TCU</td>\n",
       "    </tr>\n",
       "  </tbody>\n",
       "</table>\n",
       "</div>"
      ],
      "text/plain": [
       "   TeamA  TeamB      TeamA_name     TeamB_name  predictions  Team_won  \\\n",
       "0    244    111          Purdue           GRAM    37.093803       244   \n",
       "1    296    288       Tennessee  Saint Peter's    12.814701       296   \n",
       "2     65      2       Creighton          Akron     3.088022        65   \n",
       "3    141    258          Kansas        Samford    28.709730       141   \n",
       "4    110    169         Gonzaga        McNeese    21.977791       110   \n",
       "5    275    231  South Carolina         Oregon    -1.936162       231   \n",
       "6    299     60           Texas            CSU     9.919846       299   \n",
       "7    328    294      Utah State            TCU    -0.216908       294   \n",
       "\n",
       "  TeamName_won  \n",
       "0       Purdue  \n",
       "1    Tennessee  \n",
       "2    Creighton  \n",
       "3       Kansas  \n",
       "4      Gonzaga  \n",
       "5       Oregon  \n",
       "6        Texas  \n",
       "7          TCU  "
      ]
     },
     "execution_count": 31,
     "metadata": {},
     "output_type": "execute_result"
    }
   ],
   "source": [
    "Z_1st_round_df = preds(Brackets_model,Z01_pairs_df,'TeamA','TeamB')\n",
    "Z_1st_round_df = get_winning_teamname(Z_1st_round_df)\n",
    "Z_1st_round_df"
   ]
  },
  {
   "cell_type": "markdown",
   "metadata": {},
   "source": [
    "### Round of 32"
   ]
  },
  {
   "cell_type": "markdown",
   "metadata": {},
   "source": [
    "East region brackets"
   ]
  },
  {
   "cell_type": "code",
   "execution_count": 32,
   "metadata": {},
   "outputs": [
    {
     "data": {
      "text/html": [
       "<div>\n",
       "<style scoped>\n",
       "    .dataframe tbody tr th:only-of-type {\n",
       "        vertical-align: middle;\n",
       "    }\n",
       "\n",
       "    .dataframe tbody tr th {\n",
       "        vertical-align: top;\n",
       "    }\n",
       "\n",
       "    .dataframe thead th {\n",
       "        text-align: right;\n",
       "    }\n",
       "</style>\n",
       "<table border=\"1\" class=\"dataframe\">\n",
       "  <thead>\n",
       "    <tr style=\"text-align: right;\">\n",
       "      <th></th>\n",
       "      <th>TeamA</th>\n",
       "      <th>TeamB</th>\n",
       "      <th>TeamA_name</th>\n",
       "      <th>TeamB_name</th>\n",
       "    </tr>\n",
       "  </thead>\n",
       "  <tbody>\n",
       "    <tr>\n",
       "      <th>0</th>\n",
       "      <td>62</td>\n",
       "      <td>220</td>\n",
       "      <td>Uconn</td>\n",
       "      <td>Northwestern</td>\n",
       "    </tr>\n",
       "    <tr>\n",
       "      <th>1</th>\n",
       "      <td>134</td>\n",
       "      <td>349</td>\n",
       "      <td>Iowa State</td>\n",
       "      <td>Washington St</td>\n",
       "    </tr>\n",
       "    <tr>\n",
       "      <th>2</th>\n",
       "      <td>127</td>\n",
       "      <td>39</td>\n",
       "      <td>Illinois</td>\n",
       "      <td>BYU</td>\n",
       "    </tr>\n",
       "    <tr>\n",
       "      <th>3</th>\n",
       "      <td>19</td>\n",
       "      <td>311</td>\n",
       "      <td>Auburn</td>\n",
       "      <td>UAB</td>\n",
       "    </tr>\n",
       "  </tbody>\n",
       "</table>\n",
       "</div>"
      ],
      "text/plain": [
       "   TeamA  TeamB  TeamA_name     TeamB_name\n",
       "0     62    220       Uconn   Northwestern\n",
       "1    134    349  Iowa State  Washington St\n",
       "2    127     39    Illinois            BYU\n",
       "3     19    311      Auburn            UAB"
      ]
     },
     "execution_count": 32,
     "metadata": {},
     "output_type": "execute_result"
    }
   ],
   "source": [
    "W02_pairs_df = pair_teams(W_1st_round_df,'Team_won')\n",
    "W02_pairs_df = team_pair_names(W02_pairs_df)\n",
    "W02_pairs_df"
   ]
  },
  {
   "cell_type": "code",
   "execution_count": 33,
   "metadata": {},
   "outputs": [
    {
     "name": "stdout",
     "output_type": "stream",
     "text": [
      "\u001b[1m1/1\u001b[0m \u001b[32m━━━━━━━━━━━━━━━━━━━━\u001b[0m\u001b[37m\u001b[0m \u001b[1m0s\u001b[0m 132ms/step\n"
     ]
    },
    {
     "data": {
      "text/html": [
       "<div>\n",
       "<style scoped>\n",
       "    .dataframe tbody tr th:only-of-type {\n",
       "        vertical-align: middle;\n",
       "    }\n",
       "\n",
       "    .dataframe tbody tr th {\n",
       "        vertical-align: top;\n",
       "    }\n",
       "\n",
       "    .dataframe thead th {\n",
       "        text-align: right;\n",
       "    }\n",
       "</style>\n",
       "<table border=\"1\" class=\"dataframe\">\n",
       "  <thead>\n",
       "    <tr style=\"text-align: right;\">\n",
       "      <th></th>\n",
       "      <th>TeamA</th>\n",
       "      <th>TeamB</th>\n",
       "      <th>TeamA_name</th>\n",
       "      <th>TeamB_name</th>\n",
       "      <th>predictions</th>\n",
       "      <th>Team_won</th>\n",
       "      <th>TeamName_won</th>\n",
       "    </tr>\n",
       "  </thead>\n",
       "  <tbody>\n",
       "    <tr>\n",
       "      <th>0</th>\n",
       "      <td>62</td>\n",
       "      <td>220</td>\n",
       "      <td>Uconn</td>\n",
       "      <td>Northwestern</td>\n",
       "      <td>9.537054</td>\n",
       "      <td>62</td>\n",
       "      <td>Uconn</td>\n",
       "    </tr>\n",
       "    <tr>\n",
       "      <th>1</th>\n",
       "      <td>134</td>\n",
       "      <td>349</td>\n",
       "      <td>Iowa State</td>\n",
       "      <td>Washington St</td>\n",
       "      <td>6.767318</td>\n",
       "      <td>134</td>\n",
       "      <td>Iowa State</td>\n",
       "    </tr>\n",
       "    <tr>\n",
       "      <th>2</th>\n",
       "      <td>127</td>\n",
       "      <td>39</td>\n",
       "      <td>Illinois</td>\n",
       "      <td>BYU</td>\n",
       "      <td>2.961244</td>\n",
       "      <td>127</td>\n",
       "      <td>Illinois</td>\n",
       "    </tr>\n",
       "    <tr>\n",
       "      <th>3</th>\n",
       "      <td>19</td>\n",
       "      <td>311</td>\n",
       "      <td>Auburn</td>\n",
       "      <td>UAB</td>\n",
       "      <td>0.450184</td>\n",
       "      <td>19</td>\n",
       "      <td>Auburn</td>\n",
       "    </tr>\n",
       "  </tbody>\n",
       "</table>\n",
       "</div>"
      ],
      "text/plain": [
       "   TeamA  TeamB  TeamA_name     TeamB_name  predictions  Team_won TeamName_won\n",
       "0     62    220       Uconn   Northwestern     9.537054        62        Uconn\n",
       "1    134    349  Iowa State  Washington St     6.767318       134   Iowa State\n",
       "2    127     39    Illinois            BYU     2.961244       127     Illinois\n",
       "3     19    311      Auburn            UAB     0.450184        19       Auburn"
      ]
     },
     "execution_count": 33,
     "metadata": {},
     "output_type": "execute_result"
    }
   ],
   "source": [
    "W_2nd_round_df = preds(Brackets_model,W02_pairs_df,'TeamA','TeamB')\n",
    "W_2nd_round_df = get_winning_teamname(W_2nd_round_df)\n",
    "W_2nd_round_df"
   ]
  },
  {
   "cell_type": "markdown",
   "metadata": {},
   "source": [
    "West region brackets"
   ]
  },
  {
   "cell_type": "code",
   "execution_count": 34,
   "metadata": {},
   "outputs": [
    {
     "data": {
      "text/html": [
       "<div>\n",
       "<style scoped>\n",
       "    .dataframe tbody tr th:only-of-type {\n",
       "        vertical-align: middle;\n",
       "    }\n",
       "\n",
       "    .dataframe tbody tr th {\n",
       "        vertical-align: top;\n",
       "    }\n",
       "\n",
       "    .dataframe thead th {\n",
       "        text-align: right;\n",
       "    }\n",
       "</style>\n",
       "<table border=\"1\" class=\"dataframe\">\n",
       "  <thead>\n",
       "    <tr style=\"text-align: right;\">\n",
       "      <th></th>\n",
       "      <th>TeamA</th>\n",
       "      <th>TeamB</th>\n",
       "      <th>TeamA_name</th>\n",
       "      <th>TeamB_name</th>\n",
       "    </tr>\n",
       "  </thead>\n",
       "  <tbody>\n",
       "    <tr>\n",
       "      <th>0</th>\n",
       "      <td>213</td>\n",
       "      <td>176</td>\n",
       "      <td>North Carolina</td>\n",
       "      <td>Michigan St</td>\n",
       "    </tr>\n",
       "    <tr>\n",
       "      <th>1</th>\n",
       "      <td>11</td>\n",
       "      <td>72</td>\n",
       "      <td>Arizona</td>\n",
       "      <td>Dayton</td>\n",
       "    </tr>\n",
       "    <tr>\n",
       "      <th>2</th>\n",
       "      <td>23</td>\n",
       "      <td>54</td>\n",
       "      <td>Baylor</td>\n",
       "      <td>Clemson</td>\n",
       "    </tr>\n",
       "    <tr>\n",
       "      <th>3</th>\n",
       "      <td>3</td>\n",
       "      <td>287</td>\n",
       "      <td>Alabama</td>\n",
       "      <td>Saint Mary's</td>\n",
       "    </tr>\n",
       "  </tbody>\n",
       "</table>\n",
       "</div>"
      ],
      "text/plain": [
       "   TeamA  TeamB      TeamA_name    TeamB_name\n",
       "0    213    176  North Carolina   Michigan St\n",
       "1     11     72         Arizona        Dayton\n",
       "2     23     54          Baylor       Clemson\n",
       "3      3    287         Alabama  Saint Mary's"
      ]
     },
     "execution_count": 34,
     "metadata": {},
     "output_type": "execute_result"
    }
   ],
   "source": [
    "X02_pairs_df = pair_teams(X_1st_round_df,'Team_won')\n",
    "X02_pairs_df = team_pair_names(X02_pairs_df)\n",
    "X02_pairs_df"
   ]
  },
  {
   "cell_type": "code",
   "execution_count": 35,
   "metadata": {},
   "outputs": [
    {
     "name": "stdout",
     "output_type": "stream",
     "text": [
      "\u001b[1m1/1\u001b[0m \u001b[32m━━━━━━━━━━━━━━━━━━━━\u001b[0m\u001b[37m\u001b[0m \u001b[1m0s\u001b[0m 24ms/step\n"
     ]
    },
    {
     "data": {
      "text/html": [
       "<div>\n",
       "<style scoped>\n",
       "    .dataframe tbody tr th:only-of-type {\n",
       "        vertical-align: middle;\n",
       "    }\n",
       "\n",
       "    .dataframe tbody tr th {\n",
       "        vertical-align: top;\n",
       "    }\n",
       "\n",
       "    .dataframe thead th {\n",
       "        text-align: right;\n",
       "    }\n",
       "</style>\n",
       "<table border=\"1\" class=\"dataframe\">\n",
       "  <thead>\n",
       "    <tr style=\"text-align: right;\">\n",
       "      <th></th>\n",
       "      <th>TeamA</th>\n",
       "      <th>TeamB</th>\n",
       "      <th>TeamA_name</th>\n",
       "      <th>TeamB_name</th>\n",
       "      <th>predictions</th>\n",
       "      <th>Team_won</th>\n",
       "      <th>TeamName_won</th>\n",
       "    </tr>\n",
       "  </thead>\n",
       "  <tbody>\n",
       "    <tr>\n",
       "      <th>0</th>\n",
       "      <td>213</td>\n",
       "      <td>176</td>\n",
       "      <td>North Carolina</td>\n",
       "      <td>Michigan St</td>\n",
       "      <td>5.852607</td>\n",
       "      <td>213</td>\n",
       "      <td>North Carolina</td>\n",
       "    </tr>\n",
       "    <tr>\n",
       "      <th>1</th>\n",
       "      <td>11</td>\n",
       "      <td>72</td>\n",
       "      <td>Arizona</td>\n",
       "      <td>Dayton</td>\n",
       "      <td>11.764378</td>\n",
       "      <td>11</td>\n",
       "      <td>Arizona</td>\n",
       "    </tr>\n",
       "    <tr>\n",
       "      <th>2</th>\n",
       "      <td>23</td>\n",
       "      <td>54</td>\n",
       "      <td>Baylor</td>\n",
       "      <td>Clemson</td>\n",
       "      <td>-1.863290</td>\n",
       "      <td>54</td>\n",
       "      <td>Clemson</td>\n",
       "    </tr>\n",
       "    <tr>\n",
       "      <th>3</th>\n",
       "      <td>3</td>\n",
       "      <td>287</td>\n",
       "      <td>Alabama</td>\n",
       "      <td>Saint Mary's</td>\n",
       "      <td>7.304039</td>\n",
       "      <td>3</td>\n",
       "      <td>Alabama</td>\n",
       "    </tr>\n",
       "  </tbody>\n",
       "</table>\n",
       "</div>"
      ],
      "text/plain": [
       "   TeamA  TeamB      TeamA_name    TeamB_name  predictions  Team_won  \\\n",
       "0    213    176  North Carolina   Michigan St     5.852607       213   \n",
       "1     11     72         Arizona        Dayton    11.764378        11   \n",
       "2     23     54          Baylor       Clemson    -1.863290        54   \n",
       "3      3    287         Alabama  Saint Mary's     7.304039         3   \n",
       "\n",
       "     TeamName_won  \n",
       "0  North Carolina  \n",
       "1         Arizona  \n",
       "2         Clemson  \n",
       "3         Alabama  "
      ]
     },
     "execution_count": 35,
     "metadata": {},
     "output_type": "execute_result"
    }
   ],
   "source": [
    "X_2nd_round_df = preds(Brackets_model,X02_pairs_df,'TeamA','TeamB')\n",
    "X_2nd_round_df = get_winning_teamname(X_2nd_round_df)\n",
    "X_2nd_round_df"
   ]
  },
  {
   "cell_type": "markdown",
   "metadata": {},
   "source": [
    "South region brackets"
   ]
  },
  {
   "cell_type": "code",
   "execution_count": 36,
   "metadata": {},
   "outputs": [
    {
     "data": {
      "text/html": [
       "<div>\n",
       "<style scoped>\n",
       "    .dataframe tbody tr th:only-of-type {\n",
       "        vertical-align: middle;\n",
       "    }\n",
       "\n",
       "    .dataframe tbody tr th {\n",
       "        vertical-align: top;\n",
       "    }\n",
       "\n",
       "    .dataframe thead th {\n",
       "        text-align: right;\n",
       "    }\n",
       "</style>\n",
       "<table border=\"1\" class=\"dataframe\">\n",
       "  <thead>\n",
       "    <tr style=\"text-align: right;\">\n",
       "      <th></th>\n",
       "      <th>TeamA</th>\n",
       "      <th>TeamB</th>\n",
       "      <th>TeamA_name</th>\n",
       "      <th>TeamB_name</th>\n",
       "    </tr>\n",
       "  </thead>\n",
       "  <tbody>\n",
       "    <tr>\n",
       "      <th>0</th>\n",
       "      <td>121</td>\n",
       "      <td>203</td>\n",
       "      <td>Houston</td>\n",
       "      <td>Nebraska</td>\n",
       "    </tr>\n",
       "    <tr>\n",
       "      <th>1</th>\n",
       "      <td>165</td>\n",
       "      <td>95</td>\n",
       "      <td>Marquette</td>\n",
       "      <td>Florida</td>\n",
       "    </tr>\n",
       "    <tr>\n",
       "      <th>2</th>\n",
       "      <td>145</td>\n",
       "      <td>200</td>\n",
       "      <td>Kentucky</td>\n",
       "      <td>NC State</td>\n",
       "    </tr>\n",
       "    <tr>\n",
       "      <th>3</th>\n",
       "      <td>80</td>\n",
       "      <td>357</td>\n",
       "      <td>Duke</td>\n",
       "      <td>Wisconsin</td>\n",
       "    </tr>\n",
       "  </tbody>\n",
       "</table>\n",
       "</div>"
      ],
      "text/plain": [
       "   TeamA  TeamB TeamA_name TeamB_name\n",
       "0    121    203    Houston   Nebraska\n",
       "1    165     95  Marquette    Florida\n",
       "2    145    200   Kentucky   NC State\n",
       "3     80    357       Duke  Wisconsin"
      ]
     },
     "execution_count": 36,
     "metadata": {},
     "output_type": "execute_result"
    }
   ],
   "source": [
    "Y02_pairs_df = pair_teams(Y_1st_round_df,'Team_won')\n",
    "Y02_pairs_df = team_pair_names(Y02_pairs_df)\n",
    "Y02_pairs_df"
   ]
  },
  {
   "cell_type": "code",
   "execution_count": 37,
   "metadata": {},
   "outputs": [
    {
     "name": "stdout",
     "output_type": "stream",
     "text": [
      "\u001b[1m1/1\u001b[0m \u001b[32m━━━━━━━━━━━━━━━━━━━━\u001b[0m\u001b[37m\u001b[0m \u001b[1m0s\u001b[0m 24ms/step\n"
     ]
    },
    {
     "data": {
      "text/html": [
       "<div>\n",
       "<style scoped>\n",
       "    .dataframe tbody tr th:only-of-type {\n",
       "        vertical-align: middle;\n",
       "    }\n",
       "\n",
       "    .dataframe tbody tr th {\n",
       "        vertical-align: top;\n",
       "    }\n",
       "\n",
       "    .dataframe thead th {\n",
       "        text-align: right;\n",
       "    }\n",
       "</style>\n",
       "<table border=\"1\" class=\"dataframe\">\n",
       "  <thead>\n",
       "    <tr style=\"text-align: right;\">\n",
       "      <th></th>\n",
       "      <th>TeamA</th>\n",
       "      <th>TeamB</th>\n",
       "      <th>TeamA_name</th>\n",
       "      <th>TeamB_name</th>\n",
       "      <th>predictions</th>\n",
       "      <th>Team_won</th>\n",
       "      <th>TeamName_won</th>\n",
       "    </tr>\n",
       "  </thead>\n",
       "  <tbody>\n",
       "    <tr>\n",
       "      <th>0</th>\n",
       "      <td>121</td>\n",
       "      <td>203</td>\n",
       "      <td>Houston</td>\n",
       "      <td>Nebraska</td>\n",
       "      <td>0.771986</td>\n",
       "      <td>121</td>\n",
       "      <td>Houston</td>\n",
       "    </tr>\n",
       "    <tr>\n",
       "      <th>1</th>\n",
       "      <td>165</td>\n",
       "      <td>95</td>\n",
       "      <td>Marquette</td>\n",
       "      <td>Florida</td>\n",
       "      <td>-2.228626</td>\n",
       "      <td>95</td>\n",
       "      <td>Florida</td>\n",
       "    </tr>\n",
       "    <tr>\n",
       "      <th>2</th>\n",
       "      <td>145</td>\n",
       "      <td>200</td>\n",
       "      <td>Kentucky</td>\n",
       "      <td>NC State</td>\n",
       "      <td>6.002376</td>\n",
       "      <td>145</td>\n",
       "      <td>Kentucky</td>\n",
       "    </tr>\n",
       "    <tr>\n",
       "      <th>3</th>\n",
       "      <td>80</td>\n",
       "      <td>357</td>\n",
       "      <td>Duke</td>\n",
       "      <td>Wisconsin</td>\n",
       "      <td>13.841864</td>\n",
       "      <td>80</td>\n",
       "      <td>Duke</td>\n",
       "    </tr>\n",
       "  </tbody>\n",
       "</table>\n",
       "</div>"
      ],
      "text/plain": [
       "   TeamA  TeamB TeamA_name TeamB_name  predictions  Team_won TeamName_won\n",
       "0    121    203    Houston   Nebraska     0.771986       121      Houston\n",
       "1    165     95  Marquette    Florida    -2.228626        95      Florida\n",
       "2    145    200   Kentucky   NC State     6.002376       145     Kentucky\n",
       "3     80    357       Duke  Wisconsin    13.841864        80         Duke"
      ]
     },
     "execution_count": 37,
     "metadata": {},
     "output_type": "execute_result"
    }
   ],
   "source": [
    "Y_2nd_round_df = preds(Brackets_model,Y02_pairs_df,'TeamA','TeamB')\n",
    "Y_2nd_round_df = get_winning_teamname(Y_2nd_round_df)\n",
    "Y_2nd_round_df"
   ]
  },
  {
   "cell_type": "markdown",
   "metadata": {},
   "source": [
    "Midwest region brackets"
   ]
  },
  {
   "cell_type": "code",
   "execution_count": 38,
   "metadata": {},
   "outputs": [
    {
     "data": {
      "text/html": [
       "<div>\n",
       "<style scoped>\n",
       "    .dataframe tbody tr th:only-of-type {\n",
       "        vertical-align: middle;\n",
       "    }\n",
       "\n",
       "    .dataframe tbody tr th {\n",
       "        vertical-align: top;\n",
       "    }\n",
       "\n",
       "    .dataframe thead th {\n",
       "        text-align: right;\n",
       "    }\n",
       "</style>\n",
       "<table border=\"1\" class=\"dataframe\">\n",
       "  <thead>\n",
       "    <tr style=\"text-align: right;\">\n",
       "      <th></th>\n",
       "      <th>TeamA</th>\n",
       "      <th>TeamB</th>\n",
       "      <th>TeamA_name</th>\n",
       "      <th>TeamB_name</th>\n",
       "    </tr>\n",
       "  </thead>\n",
       "  <tbody>\n",
       "    <tr>\n",
       "      <th>0</th>\n",
       "      <td>244</td>\n",
       "      <td>294</td>\n",
       "      <td>Purdue</td>\n",
       "      <td>TCU</td>\n",
       "    </tr>\n",
       "    <tr>\n",
       "      <th>1</th>\n",
       "      <td>296</td>\n",
       "      <td>299</td>\n",
       "      <td>Tennessee</td>\n",
       "      <td>Texas</td>\n",
       "    </tr>\n",
       "    <tr>\n",
       "      <th>2</th>\n",
       "      <td>65</td>\n",
       "      <td>231</td>\n",
       "      <td>Creighton</td>\n",
       "      <td>Oregon</td>\n",
       "    </tr>\n",
       "    <tr>\n",
       "      <th>3</th>\n",
       "      <td>141</td>\n",
       "      <td>110</td>\n",
       "      <td>Kansas</td>\n",
       "      <td>Gonzaga</td>\n",
       "    </tr>\n",
       "  </tbody>\n",
       "</table>\n",
       "</div>"
      ],
      "text/plain": [
       "   TeamA  TeamB TeamA_name TeamB_name\n",
       "0    244    294     Purdue        TCU\n",
       "1    296    299  Tennessee      Texas\n",
       "2     65    231  Creighton     Oregon\n",
       "3    141    110     Kansas    Gonzaga"
      ]
     },
     "execution_count": 38,
     "metadata": {},
     "output_type": "execute_result"
    }
   ],
   "source": [
    "Z02_pairs_df = pair_teams(Z_1st_round_df,'Team_won')\n",
    "Z02_pairs_df = team_pair_names(Z02_pairs_df)\n",
    "Z02_pairs_df"
   ]
  },
  {
   "cell_type": "code",
   "execution_count": 39,
   "metadata": {},
   "outputs": [
    {
     "name": "stdout",
     "output_type": "stream",
     "text": [
      "\u001b[1m1/1\u001b[0m \u001b[32m━━━━━━━━━━━━━━━━━━━━\u001b[0m\u001b[37m\u001b[0m \u001b[1m0s\u001b[0m 25ms/step\n"
     ]
    },
    {
     "data": {
      "text/html": [
       "<div>\n",
       "<style scoped>\n",
       "    .dataframe tbody tr th:only-of-type {\n",
       "        vertical-align: middle;\n",
       "    }\n",
       "\n",
       "    .dataframe tbody tr th {\n",
       "        vertical-align: top;\n",
       "    }\n",
       "\n",
       "    .dataframe thead th {\n",
       "        text-align: right;\n",
       "    }\n",
       "</style>\n",
       "<table border=\"1\" class=\"dataframe\">\n",
       "  <thead>\n",
       "    <tr style=\"text-align: right;\">\n",
       "      <th></th>\n",
       "      <th>TeamA</th>\n",
       "      <th>TeamB</th>\n",
       "      <th>TeamA_name</th>\n",
       "      <th>TeamB_name</th>\n",
       "      <th>predictions</th>\n",
       "      <th>Team_won</th>\n",
       "      <th>TeamName_won</th>\n",
       "    </tr>\n",
       "  </thead>\n",
       "  <tbody>\n",
       "    <tr>\n",
       "      <th>0</th>\n",
       "      <td>244</td>\n",
       "      <td>294</td>\n",
       "      <td>Purdue</td>\n",
       "      <td>TCU</td>\n",
       "      <td>10.229565</td>\n",
       "      <td>244</td>\n",
       "      <td>Purdue</td>\n",
       "    </tr>\n",
       "    <tr>\n",
       "      <th>1</th>\n",
       "      <td>296</td>\n",
       "      <td>299</td>\n",
       "      <td>Tennessee</td>\n",
       "      <td>Texas</td>\n",
       "      <td>-1.049932</td>\n",
       "      <td>299</td>\n",
       "      <td>Texas</td>\n",
       "    </tr>\n",
       "    <tr>\n",
       "      <th>2</th>\n",
       "      <td>65</td>\n",
       "      <td>231</td>\n",
       "      <td>Creighton</td>\n",
       "      <td>Oregon</td>\n",
       "      <td>-0.789400</td>\n",
       "      <td>231</td>\n",
       "      <td>Oregon</td>\n",
       "    </tr>\n",
       "    <tr>\n",
       "      <th>3</th>\n",
       "      <td>141</td>\n",
       "      <td>110</td>\n",
       "      <td>Kansas</td>\n",
       "      <td>Gonzaga</td>\n",
       "      <td>4.432876</td>\n",
       "      <td>141</td>\n",
       "      <td>Kansas</td>\n",
       "    </tr>\n",
       "  </tbody>\n",
       "</table>\n",
       "</div>"
      ],
      "text/plain": [
       "   TeamA  TeamB TeamA_name TeamB_name  predictions  Team_won TeamName_won\n",
       "0    244    294     Purdue        TCU    10.229565       244       Purdue\n",
       "1    296    299  Tennessee      Texas    -1.049932       299        Texas\n",
       "2     65    231  Creighton     Oregon    -0.789400       231       Oregon\n",
       "3    141    110     Kansas    Gonzaga     4.432876       141       Kansas"
      ]
     },
     "execution_count": 39,
     "metadata": {},
     "output_type": "execute_result"
    }
   ],
   "source": [
    "Z_2nd_round_df = preds(Brackets_model,Z02_pairs_df,'TeamA','TeamB')\n",
    "Z_2nd_round_df = get_winning_teamname(Z_2nd_round_df)\n",
    "Z_2nd_round_df"
   ]
  },
  {
   "cell_type": "markdown",
   "metadata": {},
   "source": [
    "### Sweet 16"
   ]
  },
  {
   "cell_type": "markdown",
   "metadata": {},
   "source": [
    "East region brackets"
   ]
  },
  {
   "cell_type": "code",
   "execution_count": 40,
   "metadata": {},
   "outputs": [
    {
     "data": {
      "text/html": [
       "<div>\n",
       "<style scoped>\n",
       "    .dataframe tbody tr th:only-of-type {\n",
       "        vertical-align: middle;\n",
       "    }\n",
       "\n",
       "    .dataframe tbody tr th {\n",
       "        vertical-align: top;\n",
       "    }\n",
       "\n",
       "    .dataframe thead th {\n",
       "        text-align: right;\n",
       "    }\n",
       "</style>\n",
       "<table border=\"1\" class=\"dataframe\">\n",
       "  <thead>\n",
       "    <tr style=\"text-align: right;\">\n",
       "      <th></th>\n",
       "      <th>TeamA</th>\n",
       "      <th>TeamB</th>\n",
       "      <th>TeamA_name</th>\n",
       "      <th>TeamB_name</th>\n",
       "    </tr>\n",
       "  </thead>\n",
       "  <tbody>\n",
       "    <tr>\n",
       "      <th>0</th>\n",
       "      <td>62</td>\n",
       "      <td>19</td>\n",
       "      <td>Uconn</td>\n",
       "      <td>Auburn</td>\n",
       "    </tr>\n",
       "    <tr>\n",
       "      <th>1</th>\n",
       "      <td>134</td>\n",
       "      <td>127</td>\n",
       "      <td>Iowa State</td>\n",
       "      <td>Illinois</td>\n",
       "    </tr>\n",
       "  </tbody>\n",
       "</table>\n",
       "</div>"
      ],
      "text/plain": [
       "   TeamA  TeamB  TeamA_name TeamB_name\n",
       "0     62     19       Uconn     Auburn\n",
       "1    134    127  Iowa State   Illinois"
      ]
     },
     "execution_count": 40,
     "metadata": {},
     "output_type": "execute_result"
    }
   ],
   "source": [
    "W_03_pairs_df = pair_teams(W_2nd_round_df,'Team_won')\n",
    "W_03_pairs_df = team_pair_names(W_03_pairs_df)\n",
    "W_03_pairs_df"
   ]
  },
  {
   "cell_type": "code",
   "execution_count": 41,
   "metadata": {},
   "outputs": [
    {
     "name": "stdout",
     "output_type": "stream",
     "text": [
      "\u001b[1m1/1\u001b[0m \u001b[32m━━━━━━━━━━━━━━━━━━━━\u001b[0m\u001b[37m\u001b[0m \u001b[1m0s\u001b[0m 24ms/step\n"
     ]
    },
    {
     "data": {
      "text/html": [
       "<div>\n",
       "<style scoped>\n",
       "    .dataframe tbody tr th:only-of-type {\n",
       "        vertical-align: middle;\n",
       "    }\n",
       "\n",
       "    .dataframe tbody tr th {\n",
       "        vertical-align: top;\n",
       "    }\n",
       "\n",
       "    .dataframe thead th {\n",
       "        text-align: right;\n",
       "    }\n",
       "</style>\n",
       "<table border=\"1\" class=\"dataframe\">\n",
       "  <thead>\n",
       "    <tr style=\"text-align: right;\">\n",
       "      <th></th>\n",
       "      <th>TeamA</th>\n",
       "      <th>TeamB</th>\n",
       "      <th>TeamA_name</th>\n",
       "      <th>TeamB_name</th>\n",
       "      <th>predictions</th>\n",
       "      <th>Team_won</th>\n",
       "      <th>TeamName_won</th>\n",
       "    </tr>\n",
       "  </thead>\n",
       "  <tbody>\n",
       "    <tr>\n",
       "      <th>0</th>\n",
       "      <td>62</td>\n",
       "      <td>19</td>\n",
       "      <td>Uconn</td>\n",
       "      <td>Auburn</td>\n",
       "      <td>6.915150</td>\n",
       "      <td>62</td>\n",
       "      <td>Uconn</td>\n",
       "    </tr>\n",
       "    <tr>\n",
       "      <th>1</th>\n",
       "      <td>134</td>\n",
       "      <td>127</td>\n",
       "      <td>Iowa State</td>\n",
       "      <td>Illinois</td>\n",
       "      <td>-4.760874</td>\n",
       "      <td>127</td>\n",
       "      <td>Illinois</td>\n",
       "    </tr>\n",
       "  </tbody>\n",
       "</table>\n",
       "</div>"
      ],
      "text/plain": [
       "   TeamA  TeamB  TeamA_name TeamB_name  predictions  Team_won TeamName_won\n",
       "0     62     19       Uconn     Auburn     6.915150        62        Uconn\n",
       "1    134    127  Iowa State   Illinois    -4.760874       127     Illinois"
      ]
     },
     "execution_count": 41,
     "metadata": {},
     "output_type": "execute_result"
    }
   ],
   "source": [
    "W_3rd_round_df = preds(Brackets_model,W_03_pairs_df,'TeamA','TeamB')\n",
    "W_3rd_round_df = get_winning_teamname(W_3rd_round_df)\n",
    "W_3rd_round_df"
   ]
  },
  {
   "cell_type": "markdown",
   "metadata": {},
   "source": [
    "West region brackets"
   ]
  },
  {
   "cell_type": "code",
   "execution_count": 42,
   "metadata": {},
   "outputs": [
    {
     "data": {
      "text/html": [
       "<div>\n",
       "<style scoped>\n",
       "    .dataframe tbody tr th:only-of-type {\n",
       "        vertical-align: middle;\n",
       "    }\n",
       "\n",
       "    .dataframe tbody tr th {\n",
       "        vertical-align: top;\n",
       "    }\n",
       "\n",
       "    .dataframe thead th {\n",
       "        text-align: right;\n",
       "    }\n",
       "</style>\n",
       "<table border=\"1\" class=\"dataframe\">\n",
       "  <thead>\n",
       "    <tr style=\"text-align: right;\">\n",
       "      <th></th>\n",
       "      <th>TeamA</th>\n",
       "      <th>TeamB</th>\n",
       "      <th>TeamA_name</th>\n",
       "      <th>TeamB_name</th>\n",
       "    </tr>\n",
       "  </thead>\n",
       "  <tbody>\n",
       "    <tr>\n",
       "      <th>0</th>\n",
       "      <td>213</td>\n",
       "      <td>3</td>\n",
       "      <td>North Carolina</td>\n",
       "      <td>Alabama</td>\n",
       "    </tr>\n",
       "    <tr>\n",
       "      <th>1</th>\n",
       "      <td>11</td>\n",
       "      <td>54</td>\n",
       "      <td>Arizona</td>\n",
       "      <td>Clemson</td>\n",
       "    </tr>\n",
       "  </tbody>\n",
       "</table>\n",
       "</div>"
      ],
      "text/plain": [
       "   TeamA  TeamB      TeamA_name TeamB_name\n",
       "0    213      3  North Carolina    Alabama\n",
       "1     11     54         Arizona    Clemson"
      ]
     },
     "execution_count": 42,
     "metadata": {},
     "output_type": "execute_result"
    }
   ],
   "source": [
    "X03_pairs_df = pair_teams(X_2nd_round_df,'Team_won')\n",
    "X03_pairs_df = team_pair_names(X03_pairs_df)\n",
    "X03_pairs_df"
   ]
  },
  {
   "cell_type": "code",
   "execution_count": 43,
   "metadata": {},
   "outputs": [
    {
     "name": "stdout",
     "output_type": "stream",
     "text": [
      "\u001b[1m1/1\u001b[0m \u001b[32m━━━━━━━━━━━━━━━━━━━━\u001b[0m\u001b[37m\u001b[0m \u001b[1m0s\u001b[0m 26ms/step\n"
     ]
    },
    {
     "data": {
      "text/html": [
       "<div>\n",
       "<style scoped>\n",
       "    .dataframe tbody tr th:only-of-type {\n",
       "        vertical-align: middle;\n",
       "    }\n",
       "\n",
       "    .dataframe tbody tr th {\n",
       "        vertical-align: top;\n",
       "    }\n",
       "\n",
       "    .dataframe thead th {\n",
       "        text-align: right;\n",
       "    }\n",
       "</style>\n",
       "<table border=\"1\" class=\"dataframe\">\n",
       "  <thead>\n",
       "    <tr style=\"text-align: right;\">\n",
       "      <th></th>\n",
       "      <th>TeamA</th>\n",
       "      <th>TeamB</th>\n",
       "      <th>TeamA_name</th>\n",
       "      <th>TeamB_name</th>\n",
       "      <th>predictions</th>\n",
       "      <th>Team_won</th>\n",
       "      <th>TeamName_won</th>\n",
       "    </tr>\n",
       "  </thead>\n",
       "  <tbody>\n",
       "    <tr>\n",
       "      <th>0</th>\n",
       "      <td>213</td>\n",
       "      <td>3</td>\n",
       "      <td>North Carolina</td>\n",
       "      <td>Alabama</td>\n",
       "      <td>6.100444</td>\n",
       "      <td>213</td>\n",
       "      <td>North Carolina</td>\n",
       "    </tr>\n",
       "    <tr>\n",
       "      <th>1</th>\n",
       "      <td>11</td>\n",
       "      <td>54</td>\n",
       "      <td>Arizona</td>\n",
       "      <td>Clemson</td>\n",
       "      <td>6.946853</td>\n",
       "      <td>11</td>\n",
       "      <td>Arizona</td>\n",
       "    </tr>\n",
       "  </tbody>\n",
       "</table>\n",
       "</div>"
      ],
      "text/plain": [
       "   TeamA  TeamB      TeamA_name TeamB_name  predictions  Team_won  \\\n",
       "0    213      3  North Carolina    Alabama     6.100444       213   \n",
       "1     11     54         Arizona    Clemson     6.946853        11   \n",
       "\n",
       "     TeamName_won  \n",
       "0  North Carolina  \n",
       "1         Arizona  "
      ]
     },
     "execution_count": 43,
     "metadata": {},
     "output_type": "execute_result"
    }
   ],
   "source": [
    "X_3rd_round_df = preds(Brackets_model,X03_pairs_df,'TeamA','TeamB')\n",
    "X_3rd_round_df = get_winning_teamname(X_3rd_round_df)\n",
    "X_3rd_round_df"
   ]
  },
  {
   "cell_type": "markdown",
   "metadata": {},
   "source": [
    "South region brackets"
   ]
  },
  {
   "cell_type": "code",
   "execution_count": 44,
   "metadata": {},
   "outputs": [
    {
     "data": {
      "text/html": [
       "<div>\n",
       "<style scoped>\n",
       "    .dataframe tbody tr th:only-of-type {\n",
       "        vertical-align: middle;\n",
       "    }\n",
       "\n",
       "    .dataframe tbody tr th {\n",
       "        vertical-align: top;\n",
       "    }\n",
       "\n",
       "    .dataframe thead th {\n",
       "        text-align: right;\n",
       "    }\n",
       "</style>\n",
       "<table border=\"1\" class=\"dataframe\">\n",
       "  <thead>\n",
       "    <tr style=\"text-align: right;\">\n",
       "      <th></th>\n",
       "      <th>TeamA</th>\n",
       "      <th>TeamB</th>\n",
       "      <th>TeamA_name</th>\n",
       "      <th>TeamB_name</th>\n",
       "    </tr>\n",
       "  </thead>\n",
       "  <tbody>\n",
       "    <tr>\n",
       "      <th>0</th>\n",
       "      <td>121</td>\n",
       "      <td>80</td>\n",
       "      <td>Houston</td>\n",
       "      <td>Duke</td>\n",
       "    </tr>\n",
       "    <tr>\n",
       "      <th>1</th>\n",
       "      <td>95</td>\n",
       "      <td>145</td>\n",
       "      <td>Florida</td>\n",
       "      <td>Kentucky</td>\n",
       "    </tr>\n",
       "  </tbody>\n",
       "</table>\n",
       "</div>"
      ],
      "text/plain": [
       "   TeamA  TeamB TeamA_name TeamB_name\n",
       "0    121     80    Houston       Duke\n",
       "1     95    145    Florida   Kentucky"
      ]
     },
     "execution_count": 44,
     "metadata": {},
     "output_type": "execute_result"
    }
   ],
   "source": [
    "Y03_pairs_df = pair_teams(Y_2nd_round_df,'Team_won')\n",
    "Y03_pairs_df = team_pair_names(Y03_pairs_df)\n",
    "Y03_pairs_df"
   ]
  },
  {
   "cell_type": "code",
   "execution_count": 45,
   "metadata": {},
   "outputs": [
    {
     "name": "stdout",
     "output_type": "stream",
     "text": [
      "\u001b[1m1/1\u001b[0m \u001b[32m━━━━━━━━━━━━━━━━━━━━\u001b[0m\u001b[37m\u001b[0m \u001b[1m0s\u001b[0m 30ms/step\n"
     ]
    },
    {
     "data": {
      "text/html": [
       "<div>\n",
       "<style scoped>\n",
       "    .dataframe tbody tr th:only-of-type {\n",
       "        vertical-align: middle;\n",
       "    }\n",
       "\n",
       "    .dataframe tbody tr th {\n",
       "        vertical-align: top;\n",
       "    }\n",
       "\n",
       "    .dataframe thead th {\n",
       "        text-align: right;\n",
       "    }\n",
       "</style>\n",
       "<table border=\"1\" class=\"dataframe\">\n",
       "  <thead>\n",
       "    <tr style=\"text-align: right;\">\n",
       "      <th></th>\n",
       "      <th>TeamA</th>\n",
       "      <th>TeamB</th>\n",
       "      <th>TeamA_name</th>\n",
       "      <th>TeamB_name</th>\n",
       "      <th>predictions</th>\n",
       "      <th>Team_won</th>\n",
       "      <th>TeamName_won</th>\n",
       "    </tr>\n",
       "  </thead>\n",
       "  <tbody>\n",
       "    <tr>\n",
       "      <th>0</th>\n",
       "      <td>121</td>\n",
       "      <td>80</td>\n",
       "      <td>Houston</td>\n",
       "      <td>Duke</td>\n",
       "      <td>-11.859605</td>\n",
       "      <td>80</td>\n",
       "      <td>Duke</td>\n",
       "    </tr>\n",
       "    <tr>\n",
       "      <th>1</th>\n",
       "      <td>95</td>\n",
       "      <td>145</td>\n",
       "      <td>Florida</td>\n",
       "      <td>Kentucky</td>\n",
       "      <td>-4.515151</td>\n",
       "      <td>145</td>\n",
       "      <td>Kentucky</td>\n",
       "    </tr>\n",
       "  </tbody>\n",
       "</table>\n",
       "</div>"
      ],
      "text/plain": [
       "   TeamA  TeamB TeamA_name TeamB_name  predictions  Team_won TeamName_won\n",
       "0    121     80    Houston       Duke   -11.859605        80         Duke\n",
       "1     95    145    Florida   Kentucky    -4.515151       145     Kentucky"
      ]
     },
     "execution_count": 45,
     "metadata": {},
     "output_type": "execute_result"
    }
   ],
   "source": [
    "Y_3rd_round_df = preds(Brackets_model,Y03_pairs_df,'TeamA','TeamB')\n",
    "Y_3rd_round_df = get_winning_teamname(Y_3rd_round_df)\n",
    "Y_3rd_round_df"
   ]
  },
  {
   "cell_type": "markdown",
   "metadata": {},
   "source": [
    "Midwest region brackets"
   ]
  },
  {
   "cell_type": "code",
   "execution_count": 46,
   "metadata": {},
   "outputs": [
    {
     "data": {
      "text/html": [
       "<div>\n",
       "<style scoped>\n",
       "    .dataframe tbody tr th:only-of-type {\n",
       "        vertical-align: middle;\n",
       "    }\n",
       "\n",
       "    .dataframe tbody tr th {\n",
       "        vertical-align: top;\n",
       "    }\n",
       "\n",
       "    .dataframe thead th {\n",
       "        text-align: right;\n",
       "    }\n",
       "</style>\n",
       "<table border=\"1\" class=\"dataframe\">\n",
       "  <thead>\n",
       "    <tr style=\"text-align: right;\">\n",
       "      <th></th>\n",
       "      <th>TeamA</th>\n",
       "      <th>TeamB</th>\n",
       "      <th>TeamA_name</th>\n",
       "      <th>TeamB_name</th>\n",
       "    </tr>\n",
       "  </thead>\n",
       "  <tbody>\n",
       "    <tr>\n",
       "      <th>0</th>\n",
       "      <td>244</td>\n",
       "      <td>141</td>\n",
       "      <td>Purdue</td>\n",
       "      <td>Kansas</td>\n",
       "    </tr>\n",
       "    <tr>\n",
       "      <th>1</th>\n",
       "      <td>299</td>\n",
       "      <td>231</td>\n",
       "      <td>Texas</td>\n",
       "      <td>Oregon</td>\n",
       "    </tr>\n",
       "  </tbody>\n",
       "</table>\n",
       "</div>"
      ],
      "text/plain": [
       "   TeamA  TeamB TeamA_name TeamB_name\n",
       "0    244    141     Purdue     Kansas\n",
       "1    299    231      Texas     Oregon"
      ]
     },
     "execution_count": 46,
     "metadata": {},
     "output_type": "execute_result"
    }
   ],
   "source": [
    "Z03_pairs_df = pair_teams(Z_2nd_round_df,'Team_won')\n",
    "Z03_pairs_df = team_pair_names(Z03_pairs_df)\n",
    "Z03_pairs_df"
   ]
  },
  {
   "cell_type": "code",
   "execution_count": 47,
   "metadata": {},
   "outputs": [
    {
     "name": "stdout",
     "output_type": "stream",
     "text": [
      "\u001b[1m1/1\u001b[0m \u001b[32m━━━━━━━━━━━━━━━━━━━━\u001b[0m\u001b[37m\u001b[0m \u001b[1m0s\u001b[0m 27ms/step\n"
     ]
    },
    {
     "data": {
      "text/html": [
       "<div>\n",
       "<style scoped>\n",
       "    .dataframe tbody tr th:only-of-type {\n",
       "        vertical-align: middle;\n",
       "    }\n",
       "\n",
       "    .dataframe tbody tr th {\n",
       "        vertical-align: top;\n",
       "    }\n",
       "\n",
       "    .dataframe thead th {\n",
       "        text-align: right;\n",
       "    }\n",
       "</style>\n",
       "<table border=\"1\" class=\"dataframe\">\n",
       "  <thead>\n",
       "    <tr style=\"text-align: right;\">\n",
       "      <th></th>\n",
       "      <th>TeamA</th>\n",
       "      <th>TeamB</th>\n",
       "      <th>TeamA_name</th>\n",
       "      <th>TeamB_name</th>\n",
       "      <th>predictions</th>\n",
       "      <th>Team_won</th>\n",
       "      <th>TeamName_won</th>\n",
       "    </tr>\n",
       "  </thead>\n",
       "  <tbody>\n",
       "    <tr>\n",
       "      <th>0</th>\n",
       "      <td>244</td>\n",
       "      <td>141</td>\n",
       "      <td>Purdue</td>\n",
       "      <td>Kansas</td>\n",
       "      <td>-1.328283</td>\n",
       "      <td>141</td>\n",
       "      <td>Kansas</td>\n",
       "    </tr>\n",
       "    <tr>\n",
       "      <th>1</th>\n",
       "      <td>299</td>\n",
       "      <td>231</td>\n",
       "      <td>Texas</td>\n",
       "      <td>Oregon</td>\n",
       "      <td>2.547154</td>\n",
       "      <td>299</td>\n",
       "      <td>Texas</td>\n",
       "    </tr>\n",
       "  </tbody>\n",
       "</table>\n",
       "</div>"
      ],
      "text/plain": [
       "   TeamA  TeamB TeamA_name TeamB_name  predictions  Team_won TeamName_won\n",
       "0    244    141     Purdue     Kansas    -1.328283       141       Kansas\n",
       "1    299    231      Texas     Oregon     2.547154       299        Texas"
      ]
     },
     "execution_count": 47,
     "metadata": {},
     "output_type": "execute_result"
    }
   ],
   "source": [
    "Z_3rd_round_df = preds(Brackets_model,Z03_pairs_df,'TeamA','TeamB')\n",
    "Z_3rd_round_df = get_winning_teamname(Z_3rd_round_df)\n",
    "Z_3rd_round_df"
   ]
  },
  {
   "cell_type": "markdown",
   "metadata": {},
   "source": [
    "### Round of 8"
   ]
  },
  {
   "cell_type": "markdown",
   "metadata": {},
   "source": [
    "East region brackets"
   ]
  },
  {
   "cell_type": "code",
   "execution_count": 48,
   "metadata": {},
   "outputs": [
    {
     "data": {
      "text/html": [
       "<div>\n",
       "<style scoped>\n",
       "    .dataframe tbody tr th:only-of-type {\n",
       "        vertical-align: middle;\n",
       "    }\n",
       "\n",
       "    .dataframe tbody tr th {\n",
       "        vertical-align: top;\n",
       "    }\n",
       "\n",
       "    .dataframe thead th {\n",
       "        text-align: right;\n",
       "    }\n",
       "</style>\n",
       "<table border=\"1\" class=\"dataframe\">\n",
       "  <thead>\n",
       "    <tr style=\"text-align: right;\">\n",
       "      <th></th>\n",
       "      <th>TeamA</th>\n",
       "      <th>TeamB</th>\n",
       "      <th>TeamA_name</th>\n",
       "      <th>TeamB_name</th>\n",
       "    </tr>\n",
       "  </thead>\n",
       "  <tbody>\n",
       "    <tr>\n",
       "      <th>0</th>\n",
       "      <td>62</td>\n",
       "      <td>127</td>\n",
       "      <td>Uconn</td>\n",
       "      <td>Illinois</td>\n",
       "    </tr>\n",
       "  </tbody>\n",
       "</table>\n",
       "</div>"
      ],
      "text/plain": [
       "   TeamA  TeamB TeamA_name TeamB_name\n",
       "0     62    127      Uconn   Illinois"
      ]
     },
     "execution_count": 48,
     "metadata": {},
     "output_type": "execute_result"
    }
   ],
   "source": [
    "W_04_pairs_df = pair_teams(W_3rd_round_df,'Team_won')\n",
    "W_04_pairs_df = team_pair_names(W_04_pairs_df)\n",
    "W_04_pairs_df"
   ]
  },
  {
   "cell_type": "code",
   "execution_count": 49,
   "metadata": {},
   "outputs": [
    {
     "name": "stdout",
     "output_type": "stream",
     "text": [
      "\u001b[1m1/1\u001b[0m \u001b[32m━━━━━━━━━━━━━━━━━━━━\u001b[0m\u001b[37m\u001b[0m \u001b[1m0s\u001b[0m 29ms/step\n"
     ]
    },
    {
     "data": {
      "text/html": [
       "<div>\n",
       "<style scoped>\n",
       "    .dataframe tbody tr th:only-of-type {\n",
       "        vertical-align: middle;\n",
       "    }\n",
       "\n",
       "    .dataframe tbody tr th {\n",
       "        vertical-align: top;\n",
       "    }\n",
       "\n",
       "    .dataframe thead th {\n",
       "        text-align: right;\n",
       "    }\n",
       "</style>\n",
       "<table border=\"1\" class=\"dataframe\">\n",
       "  <thead>\n",
       "    <tr style=\"text-align: right;\">\n",
       "      <th></th>\n",
       "      <th>TeamA</th>\n",
       "      <th>TeamB</th>\n",
       "      <th>TeamA_name</th>\n",
       "      <th>TeamB_name</th>\n",
       "      <th>predictions</th>\n",
       "      <th>Team_won</th>\n",
       "      <th>TeamName_won</th>\n",
       "    </tr>\n",
       "  </thead>\n",
       "  <tbody>\n",
       "    <tr>\n",
       "      <th>0</th>\n",
       "      <td>62</td>\n",
       "      <td>127</td>\n",
       "      <td>Uconn</td>\n",
       "      <td>Illinois</td>\n",
       "      <td>-0.613336</td>\n",
       "      <td>127</td>\n",
       "      <td>Illinois</td>\n",
       "    </tr>\n",
       "  </tbody>\n",
       "</table>\n",
       "</div>"
      ],
      "text/plain": [
       "   TeamA  TeamB TeamA_name TeamB_name  predictions  Team_won TeamName_won\n",
       "0     62    127      Uconn   Illinois    -0.613336       127     Illinois"
      ]
     },
     "execution_count": 49,
     "metadata": {},
     "output_type": "execute_result"
    }
   ],
   "source": [
    "W_4th_round_df = preds(Brackets_model,W_04_pairs_df,'TeamA','TeamB')\n",
    "W_4th_round_df = get_winning_teamname(W_4th_round_df)\n",
    "W_4th_round_df"
   ]
  },
  {
   "cell_type": "markdown",
   "metadata": {},
   "source": [
    "West region brackets"
   ]
  },
  {
   "cell_type": "code",
   "execution_count": 50,
   "metadata": {},
   "outputs": [
    {
     "data": {
      "text/html": [
       "<div>\n",
       "<style scoped>\n",
       "    .dataframe tbody tr th:only-of-type {\n",
       "        vertical-align: middle;\n",
       "    }\n",
       "\n",
       "    .dataframe tbody tr th {\n",
       "        vertical-align: top;\n",
       "    }\n",
       "\n",
       "    .dataframe thead th {\n",
       "        text-align: right;\n",
       "    }\n",
       "</style>\n",
       "<table border=\"1\" class=\"dataframe\">\n",
       "  <thead>\n",
       "    <tr style=\"text-align: right;\">\n",
       "      <th></th>\n",
       "      <th>TeamA</th>\n",
       "      <th>TeamB</th>\n",
       "      <th>TeamA_name</th>\n",
       "      <th>TeamB_name</th>\n",
       "    </tr>\n",
       "  </thead>\n",
       "  <tbody>\n",
       "    <tr>\n",
       "      <th>0</th>\n",
       "      <td>213</td>\n",
       "      <td>11</td>\n",
       "      <td>North Carolina</td>\n",
       "      <td>Arizona</td>\n",
       "    </tr>\n",
       "  </tbody>\n",
       "</table>\n",
       "</div>"
      ],
      "text/plain": [
       "   TeamA  TeamB      TeamA_name TeamB_name\n",
       "0    213     11  North Carolina    Arizona"
      ]
     },
     "execution_count": 50,
     "metadata": {},
     "output_type": "execute_result"
    }
   ],
   "source": [
    "X04_pairs_df = pair_teams(X_3rd_round_df,'Team_won')\n",
    "X04_pairs_df = team_pair_names(X04_pairs_df)\n",
    "X04_pairs_df"
   ]
  },
  {
   "cell_type": "code",
   "execution_count": 51,
   "metadata": {},
   "outputs": [
    {
     "name": "stdout",
     "output_type": "stream",
     "text": [
      "\u001b[1m1/1\u001b[0m \u001b[32m━━━━━━━━━━━━━━━━━━━━\u001b[0m\u001b[37m\u001b[0m \u001b[1m0s\u001b[0m 27ms/step\n"
     ]
    },
    {
     "data": {
      "text/html": [
       "<div>\n",
       "<style scoped>\n",
       "    .dataframe tbody tr th:only-of-type {\n",
       "        vertical-align: middle;\n",
       "    }\n",
       "\n",
       "    .dataframe tbody tr th {\n",
       "        vertical-align: top;\n",
       "    }\n",
       "\n",
       "    .dataframe thead th {\n",
       "        text-align: right;\n",
       "    }\n",
       "</style>\n",
       "<table border=\"1\" class=\"dataframe\">\n",
       "  <thead>\n",
       "    <tr style=\"text-align: right;\">\n",
       "      <th></th>\n",
       "      <th>TeamA</th>\n",
       "      <th>TeamB</th>\n",
       "      <th>TeamA_name</th>\n",
       "      <th>TeamB_name</th>\n",
       "      <th>predictions</th>\n",
       "      <th>Team_won</th>\n",
       "      <th>TeamName_won</th>\n",
       "    </tr>\n",
       "  </thead>\n",
       "  <tbody>\n",
       "    <tr>\n",
       "      <th>0</th>\n",
       "      <td>213</td>\n",
       "      <td>11</td>\n",
       "      <td>North Carolina</td>\n",
       "      <td>Arizona</td>\n",
       "      <td>2.203191</td>\n",
       "      <td>213</td>\n",
       "      <td>North Carolina</td>\n",
       "    </tr>\n",
       "  </tbody>\n",
       "</table>\n",
       "</div>"
      ],
      "text/plain": [
       "   TeamA  TeamB      TeamA_name TeamB_name  predictions  Team_won  \\\n",
       "0    213     11  North Carolina    Arizona     2.203191       213   \n",
       "\n",
       "     TeamName_won  \n",
       "0  North Carolina  "
      ]
     },
     "execution_count": 51,
     "metadata": {},
     "output_type": "execute_result"
    }
   ],
   "source": [
    "X_4th_round_df = preds(Brackets_model,X04_pairs_df,'TeamA','TeamB')\n",
    "X_4th_round_df = get_winning_teamname(X_4th_round_df)\n",
    "X_4th_round_df"
   ]
  },
  {
   "cell_type": "markdown",
   "metadata": {},
   "source": [
    "South region brackets"
   ]
  },
  {
   "cell_type": "code",
   "execution_count": 52,
   "metadata": {},
   "outputs": [
    {
     "data": {
      "text/html": [
       "<div>\n",
       "<style scoped>\n",
       "    .dataframe tbody tr th:only-of-type {\n",
       "        vertical-align: middle;\n",
       "    }\n",
       "\n",
       "    .dataframe tbody tr th {\n",
       "        vertical-align: top;\n",
       "    }\n",
       "\n",
       "    .dataframe thead th {\n",
       "        text-align: right;\n",
       "    }\n",
       "</style>\n",
       "<table border=\"1\" class=\"dataframe\">\n",
       "  <thead>\n",
       "    <tr style=\"text-align: right;\">\n",
       "      <th></th>\n",
       "      <th>TeamA</th>\n",
       "      <th>TeamB</th>\n",
       "      <th>TeamA_name</th>\n",
       "      <th>TeamB_name</th>\n",
       "    </tr>\n",
       "  </thead>\n",
       "  <tbody>\n",
       "    <tr>\n",
       "      <th>0</th>\n",
       "      <td>80</td>\n",
       "      <td>145</td>\n",
       "      <td>Duke</td>\n",
       "      <td>Kentucky</td>\n",
       "    </tr>\n",
       "  </tbody>\n",
       "</table>\n",
       "</div>"
      ],
      "text/plain": [
       "   TeamA  TeamB TeamA_name TeamB_name\n",
       "0     80    145       Duke   Kentucky"
      ]
     },
     "execution_count": 52,
     "metadata": {},
     "output_type": "execute_result"
    }
   ],
   "source": [
    "Y04_pairs_df = pair_teams(Y_3rd_round_df,'Team_won')\n",
    "Y04_pairs_df = team_pair_names(Y04_pairs_df)\n",
    "Y04_pairs_df"
   ]
  },
  {
   "cell_type": "code",
   "execution_count": 53,
   "metadata": {},
   "outputs": [
    {
     "name": "stdout",
     "output_type": "stream",
     "text": [
      "\u001b[1m1/1\u001b[0m \u001b[32m━━━━━━━━━━━━━━━━━━━━\u001b[0m\u001b[37m\u001b[0m \u001b[1m0s\u001b[0m 24ms/step\n"
     ]
    },
    {
     "data": {
      "text/html": [
       "<div>\n",
       "<style scoped>\n",
       "    .dataframe tbody tr th:only-of-type {\n",
       "        vertical-align: middle;\n",
       "    }\n",
       "\n",
       "    .dataframe tbody tr th {\n",
       "        vertical-align: top;\n",
       "    }\n",
       "\n",
       "    .dataframe thead th {\n",
       "        text-align: right;\n",
       "    }\n",
       "</style>\n",
       "<table border=\"1\" class=\"dataframe\">\n",
       "  <thead>\n",
       "    <tr style=\"text-align: right;\">\n",
       "      <th></th>\n",
       "      <th>TeamA</th>\n",
       "      <th>TeamB</th>\n",
       "      <th>TeamA_name</th>\n",
       "      <th>TeamB_name</th>\n",
       "      <th>predictions</th>\n",
       "      <th>Team_won</th>\n",
       "      <th>TeamName_won</th>\n",
       "    </tr>\n",
       "  </thead>\n",
       "  <tbody>\n",
       "    <tr>\n",
       "      <th>0</th>\n",
       "      <td>80</td>\n",
       "      <td>145</td>\n",
       "      <td>Duke</td>\n",
       "      <td>Kentucky</td>\n",
       "      <td>3.654013</td>\n",
       "      <td>80</td>\n",
       "      <td>Duke</td>\n",
       "    </tr>\n",
       "  </tbody>\n",
       "</table>\n",
       "</div>"
      ],
      "text/plain": [
       "   TeamA  TeamB TeamA_name TeamB_name  predictions  Team_won TeamName_won\n",
       "0     80    145       Duke   Kentucky     3.654013        80         Duke"
      ]
     },
     "execution_count": 53,
     "metadata": {},
     "output_type": "execute_result"
    }
   ],
   "source": [
    "Y_4th_round_df = preds(Brackets_model,Y04_pairs_df,'TeamA','TeamB')\n",
    "Y_4th_round_df = get_winning_teamname(Y_4th_round_df)\n",
    "Y_4th_round_df"
   ]
  },
  {
   "cell_type": "markdown",
   "metadata": {},
   "source": [
    "Midwest region brackets"
   ]
  },
  {
   "cell_type": "code",
   "execution_count": 54,
   "metadata": {},
   "outputs": [
    {
     "data": {
      "text/html": [
       "<div>\n",
       "<style scoped>\n",
       "    .dataframe tbody tr th:only-of-type {\n",
       "        vertical-align: middle;\n",
       "    }\n",
       "\n",
       "    .dataframe tbody tr th {\n",
       "        vertical-align: top;\n",
       "    }\n",
       "\n",
       "    .dataframe thead th {\n",
       "        text-align: right;\n",
       "    }\n",
       "</style>\n",
       "<table border=\"1\" class=\"dataframe\">\n",
       "  <thead>\n",
       "    <tr style=\"text-align: right;\">\n",
       "      <th></th>\n",
       "      <th>TeamA</th>\n",
       "      <th>TeamB</th>\n",
       "      <th>TeamA_name</th>\n",
       "      <th>TeamB_name</th>\n",
       "    </tr>\n",
       "  </thead>\n",
       "  <tbody>\n",
       "    <tr>\n",
       "      <th>0</th>\n",
       "      <td>141</td>\n",
       "      <td>299</td>\n",
       "      <td>Kansas</td>\n",
       "      <td>Texas</td>\n",
       "    </tr>\n",
       "  </tbody>\n",
       "</table>\n",
       "</div>"
      ],
      "text/plain": [
       "   TeamA  TeamB TeamA_name TeamB_name\n",
       "0    141    299     Kansas      Texas"
      ]
     },
     "execution_count": 54,
     "metadata": {},
     "output_type": "execute_result"
    }
   ],
   "source": [
    "Z04_pairs_df = pair_teams(Z_3rd_round_df,'Team_won')\n",
    "Z04_pairs_df = team_pair_names(Z04_pairs_df)\n",
    "Z04_pairs_df"
   ]
  },
  {
   "cell_type": "code",
   "execution_count": 55,
   "metadata": {},
   "outputs": [
    {
     "name": "stdout",
     "output_type": "stream",
     "text": [
      "\u001b[1m1/1\u001b[0m \u001b[32m━━━━━━━━━━━━━━━━━━━━\u001b[0m\u001b[37m\u001b[0m \u001b[1m0s\u001b[0m 24ms/step\n"
     ]
    },
    {
     "data": {
      "text/html": [
       "<div>\n",
       "<style scoped>\n",
       "    .dataframe tbody tr th:only-of-type {\n",
       "        vertical-align: middle;\n",
       "    }\n",
       "\n",
       "    .dataframe tbody tr th {\n",
       "        vertical-align: top;\n",
       "    }\n",
       "\n",
       "    .dataframe thead th {\n",
       "        text-align: right;\n",
       "    }\n",
       "</style>\n",
       "<table border=\"1\" class=\"dataframe\">\n",
       "  <thead>\n",
       "    <tr style=\"text-align: right;\">\n",
       "      <th></th>\n",
       "      <th>TeamA</th>\n",
       "      <th>TeamB</th>\n",
       "      <th>TeamA_name</th>\n",
       "      <th>TeamB_name</th>\n",
       "      <th>predictions</th>\n",
       "      <th>Team_won</th>\n",
       "      <th>TeamName_won</th>\n",
       "    </tr>\n",
       "  </thead>\n",
       "  <tbody>\n",
       "    <tr>\n",
       "      <th>0</th>\n",
       "      <td>141</td>\n",
       "      <td>299</td>\n",
       "      <td>Kansas</td>\n",
       "      <td>Texas</td>\n",
       "      <td>6.527709</td>\n",
       "      <td>141</td>\n",
       "      <td>Kansas</td>\n",
       "    </tr>\n",
       "  </tbody>\n",
       "</table>\n",
       "</div>"
      ],
      "text/plain": [
       "   TeamA  TeamB TeamA_name TeamB_name  predictions  Team_won TeamName_won\n",
       "0    141    299     Kansas      Texas     6.527709       141       Kansas"
      ]
     },
     "execution_count": 55,
     "metadata": {},
     "output_type": "execute_result"
    }
   ],
   "source": [
    "Z_4th_round_df = preds(Brackets_model,Z04_pairs_df,'TeamA','TeamB')\n",
    "Z_4th_round_df = get_winning_teamname(Z_4th_round_df)\n",
    "Z_4th_round_df"
   ]
  },
  {
   "cell_type": "markdown",
   "metadata": {},
   "source": [
    "Concatting teams selected for the playoffs from each region"
   ]
  },
  {
   "cell_type": "code",
   "execution_count": 56,
   "metadata": {},
   "outputs": [],
   "source": [
    "columns = ['Teams_selected']\n",
    "Playoffs_selected_teams_df = pd.DataFrame(columns=columns)"
   ]
  },
  {
   "cell_type": "code",
   "execution_count": 57,
   "metadata": {},
   "outputs": [
    {
     "data": {
      "text/html": [
       "<div>\n",
       "<style scoped>\n",
       "    .dataframe tbody tr th:only-of-type {\n",
       "        vertical-align: middle;\n",
       "    }\n",
       "\n",
       "    .dataframe tbody tr th {\n",
       "        vertical-align: top;\n",
       "    }\n",
       "\n",
       "    .dataframe thead th {\n",
       "        text-align: right;\n",
       "    }\n",
       "</style>\n",
       "<table border=\"1\" class=\"dataframe\">\n",
       "  <thead>\n",
       "    <tr style=\"text-align: right;\">\n",
       "      <th></th>\n",
       "      <th>Teams_selected</th>\n",
       "    </tr>\n",
       "  </thead>\n",
       "  <tbody>\n",
       "    <tr>\n",
       "      <th>0</th>\n",
       "      <td>127</td>\n",
       "    </tr>\n",
       "    <tr>\n",
       "      <th>1</th>\n",
       "      <td>141</td>\n",
       "    </tr>\n",
       "    <tr>\n",
       "      <th>2</th>\n",
       "      <td>80</td>\n",
       "    </tr>\n",
       "    <tr>\n",
       "      <th>3</th>\n",
       "      <td>213</td>\n",
       "    </tr>\n",
       "  </tbody>\n",
       "</table>\n",
       "</div>"
      ],
      "text/plain": [
       "   Teams_selected\n",
       "0             127\n",
       "1             141\n",
       "2              80\n",
       "3             213"
      ]
     },
     "execution_count": 57,
     "metadata": {},
     "output_type": "execute_result"
    }
   ],
   "source": [
    "Playoffs_selected_teams_df.loc[len(Playoffs_selected_teams_df)] = W_4th_round_df['Team_won'].values\n",
    "Playoffs_selected_teams_df.loc[len(Playoffs_selected_teams_df)] = Z_4th_round_df['Team_won'].values\n",
    "Playoffs_selected_teams_df.loc[len(Playoffs_selected_teams_df)] = Y_4th_round_df['Team_won'].values\n",
    "Playoffs_selected_teams_df.loc[len(Playoffs_selected_teams_df)] = X_4th_round_df['Team_won'].values\n",
    "Playoffs_selected_teams_df"
   ]
  },
  {
   "cell_type": "markdown",
   "metadata": {},
   "source": [
    "### Semi-finals"
   ]
  },
  {
   "cell_type": "code",
   "execution_count": 58,
   "metadata": {},
   "outputs": [
    {
     "data": {
      "text/html": [
       "<div>\n",
       "<style scoped>\n",
       "    .dataframe tbody tr th:only-of-type {\n",
       "        vertical-align: middle;\n",
       "    }\n",
       "\n",
       "    .dataframe tbody tr th {\n",
       "        vertical-align: top;\n",
       "    }\n",
       "\n",
       "    .dataframe thead th {\n",
       "        text-align: right;\n",
       "    }\n",
       "</style>\n",
       "<table border=\"1\" class=\"dataframe\">\n",
       "  <thead>\n",
       "    <tr style=\"text-align: right;\">\n",
       "      <th></th>\n",
       "      <th>TeamA</th>\n",
       "      <th>TeamB</th>\n",
       "      <th>TeamA_name</th>\n",
       "      <th>TeamB_name</th>\n",
       "    </tr>\n",
       "  </thead>\n",
       "  <tbody>\n",
       "    <tr>\n",
       "      <th>0</th>\n",
       "      <td>127</td>\n",
       "      <td>213</td>\n",
       "      <td>Illinois</td>\n",
       "      <td>North Carolina</td>\n",
       "    </tr>\n",
       "    <tr>\n",
       "      <th>1</th>\n",
       "      <td>141</td>\n",
       "      <td>80</td>\n",
       "      <td>Kansas</td>\n",
       "      <td>Duke</td>\n",
       "    </tr>\n",
       "  </tbody>\n",
       "</table>\n",
       "</div>"
      ],
      "text/plain": [
       "   TeamA  TeamB TeamA_name      TeamB_name\n",
       "0    127    213   Illinois  North Carolina\n",
       "1    141     80     Kansas            Duke"
      ]
     },
     "execution_count": 58,
     "metadata": {},
     "output_type": "execute_result"
    }
   ],
   "source": [
    "semifinals_pairs_df = pair_teams(Playoffs_selected_teams_df, 'Teams_selected')\n",
    "semifinals_pairs_df = team_pair_names(semifinals_pairs_df)\n",
    "semifinals_pairs_df"
   ]
  },
  {
   "cell_type": "code",
   "execution_count": 59,
   "metadata": {},
   "outputs": [
    {
     "name": "stdout",
     "output_type": "stream",
     "text": [
      "\u001b[1m1/1\u001b[0m \u001b[32m━━━━━━━━━━━━━━━━━━━━\u001b[0m\u001b[37m\u001b[0m \u001b[1m0s\u001b[0m 23ms/step\n"
     ]
    },
    {
     "data": {
      "text/html": [
       "<div>\n",
       "<style scoped>\n",
       "    .dataframe tbody tr th:only-of-type {\n",
       "        vertical-align: middle;\n",
       "    }\n",
       "\n",
       "    .dataframe tbody tr th {\n",
       "        vertical-align: top;\n",
       "    }\n",
       "\n",
       "    .dataframe thead th {\n",
       "        text-align: right;\n",
       "    }\n",
       "</style>\n",
       "<table border=\"1\" class=\"dataframe\">\n",
       "  <thead>\n",
       "    <tr style=\"text-align: right;\">\n",
       "      <th></th>\n",
       "      <th>TeamA</th>\n",
       "      <th>TeamB</th>\n",
       "      <th>TeamA_name</th>\n",
       "      <th>TeamB_name</th>\n",
       "      <th>predictions</th>\n",
       "      <th>Team_won</th>\n",
       "      <th>TeamName_won</th>\n",
       "    </tr>\n",
       "  </thead>\n",
       "  <tbody>\n",
       "    <tr>\n",
       "      <th>0</th>\n",
       "      <td>127</td>\n",
       "      <td>213</td>\n",
       "      <td>Illinois</td>\n",
       "      <td>North Carolina</td>\n",
       "      <td>-3.807022</td>\n",
       "      <td>213</td>\n",
       "      <td>North Carolina</td>\n",
       "    </tr>\n",
       "    <tr>\n",
       "      <th>1</th>\n",
       "      <td>141</td>\n",
       "      <td>80</td>\n",
       "      <td>Kansas</td>\n",
       "      <td>Duke</td>\n",
       "      <td>0.268894</td>\n",
       "      <td>141</td>\n",
       "      <td>Kansas</td>\n",
       "    </tr>\n",
       "  </tbody>\n",
       "</table>\n",
       "</div>"
      ],
      "text/plain": [
       "   TeamA  TeamB TeamA_name      TeamB_name  predictions  Team_won  \\\n",
       "0    127    213   Illinois  North Carolina    -3.807022       213   \n",
       "1    141     80     Kansas            Duke     0.268894       141   \n",
       "\n",
       "     TeamName_won  \n",
       "0  North Carolina  \n",
       "1          Kansas  "
      ]
     },
     "execution_count": 59,
     "metadata": {},
     "output_type": "execute_result"
    }
   ],
   "source": [
    "semifinals_results_df = preds(Brackets_model,semifinals_pairs_df,'TeamA','TeamB')\n",
    "semifinals_results_df = get_winning_teamname(semifinals_results_df)\n",
    "semifinals_results_df"
   ]
  },
  {
   "cell_type": "markdown",
   "metadata": {},
   "source": [
    "### Finals"
   ]
  },
  {
   "cell_type": "code",
   "execution_count": 60,
   "metadata": {},
   "outputs": [
    {
     "data": {
      "text/html": [
       "<div>\n",
       "<style scoped>\n",
       "    .dataframe tbody tr th:only-of-type {\n",
       "        vertical-align: middle;\n",
       "    }\n",
       "\n",
       "    .dataframe tbody tr th {\n",
       "        vertical-align: top;\n",
       "    }\n",
       "\n",
       "    .dataframe thead th {\n",
       "        text-align: right;\n",
       "    }\n",
       "</style>\n",
       "<table border=\"1\" class=\"dataframe\">\n",
       "  <thead>\n",
       "    <tr style=\"text-align: right;\">\n",
       "      <th></th>\n",
       "      <th>TeamA</th>\n",
       "      <th>TeamB</th>\n",
       "      <th>TeamA_name</th>\n",
       "      <th>TeamB_name</th>\n",
       "    </tr>\n",
       "  </thead>\n",
       "  <tbody>\n",
       "    <tr>\n",
       "      <th>0</th>\n",
       "      <td>213</td>\n",
       "      <td>141</td>\n",
       "      <td>North Carolina</td>\n",
       "      <td>Kansas</td>\n",
       "    </tr>\n",
       "  </tbody>\n",
       "</table>\n",
       "</div>"
      ],
      "text/plain": [
       "   TeamA  TeamB      TeamA_name TeamB_name\n",
       "0    213    141  North Carolina     Kansas"
      ]
     },
     "execution_count": 60,
     "metadata": {},
     "output_type": "execute_result"
    }
   ],
   "source": [
    "Finals_pairs_df = pair_teams(semifinals_results_df,'Team_won')\n",
    "Finals_pairs_df = team_pair_names(Finals_pairs_df)\n",
    "Finals_pairs_df"
   ]
  },
  {
   "cell_type": "code",
   "execution_count": 61,
   "metadata": {},
   "outputs": [
    {
     "name": "stdout",
     "output_type": "stream",
     "text": [
      "\u001b[1m1/1\u001b[0m \u001b[32m━━━━━━━━━━━━━━━━━━━━\u001b[0m\u001b[37m\u001b[0m \u001b[1m0s\u001b[0m 25ms/step\n"
     ]
    },
    {
     "data": {
      "text/html": [
       "<div>\n",
       "<style scoped>\n",
       "    .dataframe tbody tr th:only-of-type {\n",
       "        vertical-align: middle;\n",
       "    }\n",
       "\n",
       "    .dataframe tbody tr th {\n",
       "        vertical-align: top;\n",
       "    }\n",
       "\n",
       "    .dataframe thead th {\n",
       "        text-align: right;\n",
       "    }\n",
       "</style>\n",
       "<table border=\"1\" class=\"dataframe\">\n",
       "  <thead>\n",
       "    <tr style=\"text-align: right;\">\n",
       "      <th></th>\n",
       "      <th>TeamA</th>\n",
       "      <th>TeamB</th>\n",
       "      <th>TeamA_name</th>\n",
       "      <th>TeamB_name</th>\n",
       "      <th>predictions</th>\n",
       "      <th>Team_won</th>\n",
       "      <th>TeamName_won</th>\n",
       "    </tr>\n",
       "  </thead>\n",
       "  <tbody>\n",
       "    <tr>\n",
       "      <th>0</th>\n",
       "      <td>213</td>\n",
       "      <td>141</td>\n",
       "      <td>North Carolina</td>\n",
       "      <td>Kansas</td>\n",
       "      <td>1.724854</td>\n",
       "      <td>213</td>\n",
       "      <td>North Carolina</td>\n",
       "    </tr>\n",
       "  </tbody>\n",
       "</table>\n",
       "</div>"
      ],
      "text/plain": [
       "   TeamA  TeamB      TeamA_name TeamB_name  predictions  Team_won  \\\n",
       "0    213    141  North Carolina     Kansas     1.724854       213   \n",
       "\n",
       "     TeamName_won  \n",
       "0  North Carolina  "
      ]
     },
     "execution_count": 61,
     "metadata": {},
     "output_type": "execute_result"
    }
   ],
   "source": [
    "Finals_results_df = preds(Brackets_model,Finals_pairs_df,'TeamA','TeamB')\n",
    "Finals_results_df = get_winning_teamname(Finals_results_df)\n",
    "Finals_results_df"
   ]
  },
  {
   "cell_type": "code",
   "execution_count": 62,
   "metadata": {},
   "outputs": [
    {
     "name": "stdout",
     "output_type": "stream",
     "text": [
      "Team won the tournament: North Carolina\n"
     ]
    }
   ],
   "source": [
    "print(\"Team won the tournament: \" + Finals_results_df['TeamName_won'].values[0])"
   ]
  }
 ],
 "metadata": {
  "kernelspec": {
   "display_name": "Bracket_env",
   "language": "python",
   "name": "python3"
  },
  "language_info": {
   "codemirror_mode": {
    "name": "ipython",
    "version": 3
   },
   "file_extension": ".py",
   "mimetype": "text/x-python",
   "name": "python",
   "nbconvert_exporter": "python",
   "pygments_lexer": "ipython3",
   "version": "3.11.8"
  }
 },
 "nbformat": 4,
 "nbformat_minor": 2
}
